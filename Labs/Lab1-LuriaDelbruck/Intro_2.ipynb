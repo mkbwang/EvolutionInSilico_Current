{
 "cells": [
  {
   "cell_type": "markdown",
   "metadata": {},
   "source": [
    "# A little more Python\n",
    "## [still while playing with a simulation of the Luria-Delbrück experiment]\n",
    "\n",
    "Now we're going to add a mutation function. Here, we're really only dealing with two genotypes, `0` and `1`, but you could imagine extending this in all sorts of ways!\n",
    "\n",
    "\n",
    "### We'll start by importing our libraries again"
   ]
  },
  {
   "cell_type": "code",
   "execution_count": 1,
   "metadata": {},
   "outputs": [],
   "source": [
    "import numpy as np\n",
    "from matplotlib import pyplot as plt"
   ]
  },
  {
   "cell_type": "markdown",
   "metadata": {},
   "source": [
    "## Now, let's bring in the code we wrote before\n",
    "(I just took out the print statements)"
   ]
  },
  {
   "cell_type": "code",
   "execution_count": 2,
   "metadata": {},
   "outputs": [],
   "source": [
    "prob_repro = 0.50\n",
    "num_replicates = 10\n",
    "num_generations = 10 #let's run a little longer this time\n",
    "\n",
    "populations = [[0] for rep_idx in range(num_replicates)]\n",
    "pop_sizes = [[] for rep_idx in range(num_replicates)]\n",
    "\n",
    "for rep in range(num_replicates): \n",
    "    this_population = populations[rep]\n",
    "    \n",
    "    for generation in range(num_generations):\n",
    "        for pop_idx in range(len(this_population)):\n",
    "            if np.random.rand() < prob_repro:\n",
    "                #the organism at pop_idx location in our array gets to reproduce! \n",
    "                this_population.append(this_population[pop_idx])\n",
    "\n",
    "        pop_sizes[rep].append(len(this_population))\n"
   ]
  },
  {
   "cell_type": "markdown",
   "metadata": {},
   "source": [
    "### The line we need to look at is where we put the new organism into the population:\n",
    "`this_population.append(this_population[pop_idx])`\n",
    "\n",
    "### Let's write a *function* that will help keep these nested loops easy(ish) to read.\n",
    "We can call it `mutation_function` and it'll take in the genotype of our organism (0, or 1), and return a mutant genotype (with probability `mut_prob`), or the same genotype it was given (with probability `1-mut_prob`). \n",
    "\n",
    "Let's make `mut_prob` a parameter to our mutation function. That way it'll be easy if we want to change the mutation rate later on! "
   ]
  },
  {
   "cell_type": "code",
   "execution_count": 3,
   "metadata": {},
   "outputs": [],
   "source": [
    "def mutation_function(org, mut_prob):\n",
    "    new_org = org\n",
    "    #We mutate! \n",
    "    if np.random.rand() < mut_prob:\n",
    "        if(org == 0):\n",
    "            new_org = 1\n",
    "        else:\n",
    "            new_org = 0\n",
    "    return new_org\n",
    "            \n",
    "    "
   ]
  },
  {
   "cell_type": "markdown",
   "metadata": {},
   "source": [
    "## Let's quickly test our mutation function to see if it is working!\n",
    "\n",
    "We can just call our mutation_function a bunch of times, and plot a histogram of the genotype it returns."
   ]
  },
  {
   "cell_type": "code",
   "execution_count": 4,
   "metadata": {},
   "outputs": [
    {
     "data": {
      "image/png": "[encoded data removed]",
      "text/plain": [
       "<Figure size 432x288 with 1 Axes>"
      ]
     },
     "metadata": {
      "needs_background": "light"
     },
     "output_type": "display_data"
    }
   ],
   "source": [
    "test_array = []\n",
    "\n",
    "for i in range(1000):\n",
    "    test_array.append(mutation_function(0, 0.5))\n",
    "    \n",
    "plt.hist(test_array)\n",
    "plt.show()"
   ]
  },
  {
   "cell_type": "markdown",
   "metadata": {},
   "source": [
    "## Now let's try changing the mutation probability! "
   ]
  },
  {
   "cell_type": "code",
   "execution_count": 5,
   "metadata": {},
   "outputs": [
    {
     "data": {
      "image/png": "[encoded data removed]",
      "text/plain": [
       "<Figure size 432x288 with 1 Axes>"
      ]
     },
     "metadata": {
      "needs_background": "light"
     },
     "output_type": "display_data"
    }
   ],
   "source": [
    "test_array = []\n",
    "\n",
    "for i in range(1000):\n",
    "    test_array.append(mutation_function(0, 0.9))\n",
    "    \n",
    "plt.hist(test_array)\n",
    "plt.show()"
   ]
  },
  {
   "cell_type": "markdown",
   "metadata": {},
   "source": [
    "## Awesome, it looks like it works the way we expect\n",
    "\n",
    "So let's add it to our full simulation now.\n",
    "\n",
    "We'll also add a variable for the mutation probability that we'll just pass into our new `mutation_function`."
   ]
  },
  {
   "cell_type": "code",
   "execution_count": 6,
   "metadata": {},
   "outputs": [],
   "source": [
    "#20% chance of a mutation occuring whenever an organism replicates\n",
    "prob_mutation = 0.2\n",
    "\n",
    "prob_repro = 0.50\n",
    "num_replicates = 10\n",
    "num_generations = 10 #let's run a little longer this time\n",
    "\n",
    "populations = [[0] for rep_idx in range(num_replicates)]\n",
    "pop_sizes = [[] for rep_idx in range(num_replicates)]\n",
    "\n",
    "for rep in range(num_replicates): \n",
    "    this_population = populations[rep]\n",
    "    \n",
    "    for generation in range(num_generations):\n",
    "        for pop_idx in range(len(this_population)):\n",
    "            if np.random.rand() < prob_repro:\n",
    "                org_to_add = mutation_function(this_population[pop_idx], mut_prob=prob_mutation)\n",
    "                this_population.append(org_to_add)\n",
    "\n",
    "        pop_sizes[rep].append(len(this_population))\n"
   ]
  },
  {
   "cell_type": "markdown",
   "metadata": {},
   "source": [
    "## Let's look at the population array and see if we notice some mutants!"
   ]
  },
  {
   "cell_type": "code",
   "execution_count": 7,
   "metadata": {},
   "outputs": [
    {
     "name": "stdout",
     "output_type": "stream",
     "text": [
      "[[0, 0, 0, 0, 0, 0, 0, 1, 0, 0, 1, 0, 0, 0, 0, 0, 0, 1, 1, 0, 0, 0, 0, 0, 0, 0, 0, 0, 1, 1, 0, 0, 1, 1, 1, 0, 0, 0, 1, 0, 1, 1, 0, 0, 1, 1, 0, 0, 0, 0, 0, 1, 1, 0, 1, 1], [0, 0, 0, 0, 0, 0, 1, 0, 0, 0, 0, 0, 0, 1, 0, 1, 0, 0, 1, 0, 0, 1, 1, 0, 0, 1, 1, 0, 0, 0, 1, 1, 0, 1, 0, 1, 0, 1, 0, 0, 1, 0, 1, 1, 1, 0, 0, 0, 1, 0, 0, 0, 0, 1, 0, 1, 1, 0, 1, 1, 0, 0, 1, 0, 1, 0, 1, 0], [0, 0, 0, 0, 0, 0, 0, 0, 0, 0, 0, 0, 0, 0, 0, 0, 0, 0, 0, 0, 1, 0, 0, 0, 0, 0, 0, 0, 0, 0, 0, 0, 1, 0, 0], [0, 0, 0, 0, 0, 0, 0, 1, 0, 0, 0, 0, 1, 1, 0, 0, 1, 0, 0, 0, 0, 1, 0, 0, 1, 0, 1, 1, 0, 0, 0, 0, 0, 0, 0, 0, 0, 0, 0, 1, 1, 1, 0, 0, 1, 1, 0, 0, 1, 1, 0, 0, 0, 0, 0, 0, 0, 0, 0, 0, 0, 0, 0, 1, 1, 0, 0, 1, 0, 0], [0, 0, 0, 0, 0, 1, 0, 1, 0, 0, 1, 1, 0, 0, 0, 0, 1, 0, 0, 0, 1, 0, 1, 1, 0, 0, 1, 0, 0, 0, 1, 0, 0, 0, 1, 0, 1, 0, 0, 0], [0, 0, 0, 0, 0, 1, 0, 0, 0, 0, 0, 0, 1, 1, 0, 1, 0], [0, 0, 1, 0, 0, 0, 0, 0, 0, 1, 0, 1, 0, 0, 0, 0, 0, 0, 1, 1, 1, 0, 0, 0, 0, 0, 0, 0, 1, 1, 0, 0, 1, 0, 1, 1, 0, 0, 0, 1, 0, 1, 0, 0, 0, 0, 0, 1, 0, 0, 1, 1, 1, 0, 1, 1, 1, 0, 1, 0, 0, 0, 0, 1, 0, 0, 0, 0, 0, 1, 0, 1, 0, 1, 1, 0, 0, 1, 1, 0, 0, 1, 0, 1, 0, 0, 1, 1, 0], [0, 1, 1, 1, 0, 1, 0, 1, 1, 1, 0, 1, 1, 0, 0, 1, 0, 1, 1, 1, 1, 0, 1, 0, 0, 0, 0, 1, 1, 1, 1, 1, 0, 0, 0, 0, 0, 1, 1, 1, 0, 0, 1, 0, 1, 0], [0, 0, 1, 0, 1, 1, 0, 1, 1, 0, 0, 0, 0, 0, 1, 0, 1, 1, 0, 1, 0, 0, 0, 0, 0, 0, 0, 0, 0, 1, 0, 1, 1, 1, 0, 1, 0, 1, 0, 0, 0], [0, 0, 0, 0, 0, 0, 0, 1, 0, 0, 0, 0, 1, 1, 0, 1, 1, 0, 0, 0, 0, 0, 1, 0, 0, 0, 1, 0, 1, 0, 0, 1, 0, 1, 0, 1, 1, 0, 0, 0, 0, 0, 1, 0, 0, 1, 0, 1, 0, 1, 1, 0, 1, 0, 0, 0, 0, 0, 0, 1, 0, 0]]\n"
     ]
    }
   ],
   "source": [
    "print(populations)"
   ]
  },
  {
   "cell_type": "markdown",
   "metadata": {},
   "source": [
    "## They're there! Maybe an easier way to summarize all this is to calculate the proportion of the population made up by mutant (`1`) genotypes. \n",
    "\n",
    "We can take advantage that adding together a bunch of `1`s and `0`s will sum to the count of `1`s in the population!\n",
    "\n",
    "Remember that `populations` holds a list-of-lists, where each sublist is the organisms in one replicate population. So, we can loop through each of these sublists to calculate the proportion. \n"
   ]
  },
  {
   "cell_type": "code",
   "execution_count": 8,
   "metadata": {},
   "outputs": [
    {
     "name": "stdout",
     "output_type": "stream",
     "text": [
      "18\n",
      "26\n",
      "2\n",
      "18\n",
      "12\n",
      "4\n",
      "32\n",
      "25\n",
      "15\n",
      "19\n"
     ]
    }
   ],
   "source": [
    "#Just the sum, not the proportion!\n",
    "for replicate_pop in populations:\n",
    "    print(sum(replicate_pop))"
   ]
  },
  {
   "cell_type": "code",
   "execution_count": 9,
   "metadata": {},
   "outputs": [
    {
     "name": "stdout",
     "output_type": "stream",
     "text": [
      "0.32142857142857145\n",
      "0.38235294117647056\n",
      "0.05714285714285714\n",
      "0.2571428571428571\n",
      "0.3\n",
      "0.23529411764705882\n",
      "0.3595505617977528\n",
      "0.5434782608695652\n",
      "0.36585365853658536\n",
      "0.3064516129032258\n"
     ]
    }
   ],
   "source": [
    "#We need to divide this count by the size of the population to get the proportion! \n",
    "for replicate_pop in populations:\n",
    "    print(sum(replicate_pop)/len(replicate_pop))"
   ]
  },
  {
   "cell_type": "markdown",
   "metadata": {},
   "source": [
    "## But, we could have done this with a list comprehension!"
   ]
  },
  {
   "cell_type": "code",
   "execution_count": 10,
   "metadata": {},
   "outputs": [
    {
     "name": "stdout",
     "output_type": "stream",
     "text": [
      "[0.32142857142857145, 0.38235294117647056, 0.05714285714285714, 0.2571428571428571, 0.3, 0.23529411764705882, 0.3595505617977528, 0.5434782608695652, 0.36585365853658536, 0.3064516129032258]\n"
     ]
    }
   ],
   "source": [
    "proportion_mutants = [sum(rep_pop)/len(rep_pop) for rep_pop in populations]\n",
    "print(proportion_mutants)"
   ]
  },
  {
   "cell_type": "markdown",
   "metadata": {},
   "source": [
    "### Let's put this all together"
   ]
  },
  {
   "cell_type": "code",
   "execution_count": 11,
   "metadata": {},
   "outputs": [
    {
     "data": {
      "image/png": "[encoded data removed]",
      "text/plain": [
       "<Figure size 432x288 with 1 Axes>"
      ]
     },
     "metadata": {
      "needs_background": "light"
     },
     "output_type": "display_data"
    }
   ],
   "source": [
    "#20% chance of a mutation occuring whenever an organism replicates\n",
    "prob_mutation = 0.2\n",
    "\n",
    "prob_repro = 0.50\n",
    "num_replicates = 10\n",
    "num_generations = 10 #let's run a little longer this time\n",
    "\n",
    "populations = [[0] for rep_idx in range(num_replicates)]\n",
    "pop_sizes = [[] for rep_idx in range(num_replicates)]\n",
    "\n",
    "for rep in range(num_replicates): \n",
    "    this_population = populations[rep]\n",
    "    \n",
    "    for generation in range(num_generations):\n",
    "        for pop_idx in range(len(this_population)):\n",
    "            if np.random.rand() < prob_repro:\n",
    "                org_to_add = mutation_function(this_population[pop_idx], mut_prob=prob_mutation)\n",
    "                this_population.append(org_to_add)\n",
    "\n",
    "        pop_sizes[rep].append(len(this_population))\n",
    "\n",
    "proportion_mutants = [sum(rep_pop)/len(rep_pop) for rep_pop in populations]\n",
    "\n",
    "plt.hist(proportion_mutants)\n",
    "plt.title(\"Proportion Resistant\")\n",
    "plt.show()"
   ]
  },
  {
   "cell_type": "markdown",
   "metadata": {},
   "source": [
    "## Well, that's not exactly pretty. \n",
    "\n",
    "Part of the problem is that we only have 10 values, so we can't ***really*** tell much. Let's try this again with *100* replicates, and then again with *10,000*!"
   ]
  },
  {
   "cell_type": "code",
   "execution_count": 12,
   "metadata": {},
   "outputs": [
    {
     "data": {
      "image/png": "[encoded data removed]",
      "text/plain": [
       "<Figure size 432x288 with 1 Axes>"
      ]
     },
     "metadata": {
      "needs_background": "light"
     },
     "output_type": "display_data"
    }
   ],
   "source": [
    "#20% chance of a mutation occuring whenever an organism replicates\n",
    "prob_mutation = 0.2\n",
    "\n",
    "prob_repro = 0.50\n",
    "num_replicates = 100\n",
    "num_generations = 10 #let's run a little longer this time\n",
    "\n",
    "populations = [[0] for rep_idx in range(num_replicates)]\n",
    "pop_sizes = [[] for rep_idx in range(num_replicates)]\n",
    "\n",
    "for rep in range(num_replicates): \n",
    "    this_population = populations[rep]\n",
    "    \n",
    "    for generation in range(num_generations):\n",
    "        for pop_idx in range(len(this_population)):\n",
    "            if np.random.rand() < prob_repro:\n",
    "                org_to_add = mutation_function(this_population[pop_idx], mut_prob=prob_mutation)\n",
    "                this_population.append(org_to_add)\n",
    "\n",
    "        pop_sizes[rep].append(len(this_population))\n",
    "\n",
    "proportion_mutants = [sum(rep_pop)/len(rep_pop) for rep_pop in populations]\n",
    "\n",
    "plt.hist(proportion_mutants)\n",
    "plt.title(\"Proportion Resistant\")\n",
    "plt.show()"
   ]
  },
  {
   "cell_type": "code",
   "execution_count": 13,
   "metadata": {},
   "outputs": [
    {
     "data": {
      "image/png": "[encoded data removed]",
      "text/plain": [
       "<Figure size 432x288 with 1 Axes>"
      ]
     },
     "metadata": {
      "needs_background": "light"
     },
     "output_type": "display_data"
    }
   ],
   "source": [
    "#20% chance of a mutation occuring whenever an organism replicates\n",
    "prob_mutation = 0.2\n",
    "\n",
    "prob_repro = 0.50\n",
    "num_replicates = 10000\n",
    "num_generations = 10 #let's run a little longer this time\n",
    "\n",
    "populations = [[0] for rep_idx in range(num_replicates)]\n",
    "pop_sizes = [[] for rep_idx in range(num_replicates)]\n",
    "\n",
    "for rep in range(num_replicates): \n",
    "    this_population = populations[rep]\n",
    "    \n",
    "    for generation in range(num_generations):\n",
    "        for pop_idx in range(len(this_population)):\n",
    "            if np.random.rand() < prob_repro:\n",
    "                org_to_add = mutation_function(this_population[pop_idx], mut_prob=prob_mutation)\n",
    "                this_population.append(org_to_add)\n",
    "\n",
    "        pop_sizes[rep].append(len(this_population))\n",
    "\n",
    "proportion_mutants = [sum(rep_pop)/len(rep_pop) for rep_pop in populations]\n",
    "\n",
    "plt.hist(proportion_mutants)\n",
    "plt.title(\"Proportion Resistant\")\n",
    "plt.show()"
   ]
  },
  {
   "cell_type": "markdown",
   "metadata": {},
   "source": [
    "## Notice how the distributions are much more resonable looking? \n",
    "This is the reason why you might hear people talk about *small sample sizes*, needing more replicates, or having low statistical power. Without enough samples, it's hard to know what the underlying distribution really looks like! \n",
    "\n",
    "## So, this is what the distribution of the *Proportion Resistant* looks like with a stochastic growth model and RANDOM mutations. What would it look like if you had DIRECTED mutations? \n",
    "\n",
    "That's what you'll be working on next!"
   ]
  }
 ],
 "metadata": {
  "kernelspec": {
   "display_name": "Python 3 (ipykernel)",
   "language": "python",
   "name": "python3"
  },
  "language_info": {
   "codemirror_mode": {
    "name": "ipython",
    "version": 3
   },
   "file_extension": ".py",
   "mimetype": "text/x-python",
   "name": "python",
   "nbconvert_exporter": "python",
   "pygments_lexer": "ipython3",
   "version": "3.8.10"
  }
 },
 "nbformat": 4,
 "nbformat_minor": 4
}
