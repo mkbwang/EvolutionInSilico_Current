{
 "cells": [
  {
   "cell_type": "markdown",
   "metadata": {},
   "source": [
    "# In this worksheet, we'll start evolving neural network controllers for our robots!"
   ]
  },
  {
   "cell_type": "code",
   "execution_count": 1,
   "metadata": {},
   "outputs": [],
   "source": [
    "from IPython.display import display, clear_output\n",
    "from jyro.simulator import *\n",
    "import random\n",
    "import numpy as np"
   ]
  },
  {
   "cell_type": "markdown",
   "metadata": {},
   "source": [
    "### Just bringing back our `SimpleNeuralNet` class from earlier"
   ]
  },
  {
   "cell_type": "code",
   "execution_count": 2,
   "metadata": {},
   "outputs": [],
   "source": [
    "class SimpleNeuralNet():\n",
    "    #This is our squashing function\n",
    "    #I changed this to the hyperbolic tangent function that\n",
    "    #returns values in (-1, 1)\n",
    "    def activation_function(self, x):\n",
    "        return np.tanh(x)\n",
    "    \n",
    "    #this should look familiar, just a way to create a copy of \n",
    "    #the network without worying about pesky reference \n",
    "    def deepcopy(self):\n",
    "        new_net = SimpleNeuralNet(self.num_inputs, self.num_outputs, self.layer_node_counts)\n",
    "        new_net.layers = [np.copy(layer) for layer in self.layers]\n",
    "        return new_net\n",
    "    \n",
    "    #this is where the neural network does its computation!\n",
    "    def execute(self, input_vector):\n",
    "        # First we need to make sure we're getting the right\n",
    "        # number of inputs into our neural network.\n",
    "        assert len(input_vector) == self.num_inputs ,\\\n",
    "        \"wrong input vector size\"\n",
    "\n",
    "        # create a temporary variable to hold the values that should go\n",
    "        # into the next layer of the network.\n",
    "        # **at the start, this will just be our input**\n",
    "        next_v = input_vector\n",
    "\n",
    "        # iterate through layers, computing the activation\n",
    "        # of the weighted inputs from the previous layer\n",
    "        for layer in self.layers:\n",
    "            # add a bias to each layer [1]\n",
    "            next_v = np.append(next_v, 1)\n",
    "            \n",
    "            # pump the input vector through the matrix multiplication\n",
    "            # and our activation function\n",
    "            next_v = self.activation_function(np.dot(next_v, layer))\n",
    "            \n",
    "        return next_v\n",
    "        \n",
    "    def __init__(self, num_inputs, num_outputs, layer_node_counts=[]):\n",
    "        self.num_inputs = num_inputs\n",
    "        self.layer_node_counts = layer_node_counts\n",
    "        self.num_outputs = num_outputs\n",
    "        self.layers = []\n",
    "        \n",
    "        last_num_neurons = self.num_inputs\n",
    "        for nc in layer_node_counts + [num_outputs]:\n",
    "            # for now, we'll just use random weights in the range [-5,5]\n",
    "            # +1 handles adding a bias node for each layer of nodes\n",
    "            self.layers.append(np.random.uniform(-5, 5, size=(last_num_neurons+1, nc)))\n",
    "            last_num_neurons = nc\n",
    "    "
   ]
  },
  {
   "cell_type": "markdown",
   "metadata": {},
   "source": [
    "## This code is mostly the same, but we're setting up the world a bit differently. Here we are setting up the simulation without all the interactive bits to speed it up."
   ]
  },
  {
   "cell_type": "code",
   "execution_count": 3,
   "metadata": {},
   "outputs": [],
   "source": [
    "class MyPioneer(Pioneer):\n",
    "    def __init__(self, name, x, y, angle):\n",
    "        Pioneer.__init__(self, name, x, y, angle)\n",
    "        self.addDevice(Pioneer16Sonars())\n",
    "        #parameter defines max range in meters\n",
    "        self.addDevice(PioneerFrontLightSensors(3))\n",
    "        self.addDevice(Camera())\n",
    "\n",
    "        \n",
    "robot = MyPioneer(\"Johnny\", 1, 1, 0)\n",
    "sim = Physics()\n",
    "sim.addBox(0, 0, 8, 8, fill=\"backgroundgreen\", wallcolor=\"gray\") #bounding box\n",
    "sim.addLight(7, 7, 1) #paramters are x, y, brightness\n",
    "\n",
    "sim.addRobot(robot)"
   ]
  },
  {
   "cell_type": "markdown",
   "metadata": {},
   "source": [
    "## If we wanted to get a visual of the simulator though, we still can by asking the simulation to draw itself! "
   ]
  },
  {
   "cell_type": "code",
   "execution_count": 4,
   "metadata": {},
   "outputs": [
    {
     "data": {
      "image/svg+xml": [
       "<svg baseProfile=\"full\" height=\"250\" version=\"1.1\" width=\"250\" xmlns=\"http://www.w3.org/2000/svg\" xmlns:ev=\"http://www.w3.org/2001/xml-events\" xmlns:xlink=\"http://www.w3.org/1999/xlink\"><defs /><rect fill=\"#eef3dd\" height=\"250.0\" stroke=\"#bebebe\" stroke-width=\"1\" width=\"250.0\" x=\"0.0\" y=\"0.0\" /><circle cx=\"218.75\" cy=\"31.25\" fill=\"#ffff00\" r=\"7.8125\" stroke=\"#ffff00\" stroke-width=\"1\" /><line fill=\"#800080\" stroke=\"#add8e6\" stroke-width=\"1\" x1=\"25.78125\" x2=\"0.0\" y1=\"215.625\" y2=\"215.625\" /><line fill=\"#800080\" stroke=\"#add8e6\" stroke-width=\"1\" x1=\"26.5625\" x2=\"0.0\" y1=\"213.4375\" y2=\"201.051203125\" /><line fill=\"#800080\" stroke=\"#add8e6\" stroke-width=\"1\" x1=\"27.8125\" x2=\"0.0\" y1=\"212.5\" y2=\"179.35435312500002\" /><line fill=\"#800080\" stroke=\"#add8e6\" stroke-width=\"1\" x1=\"29.6875\" x2=\"0.0\" y1=\"211.71875\" y2=\"100.92349375\" /><line fill=\"#800080\" stroke=\"#add8e6\" stroke-width=\"1\" x1=\"32.8125\" x2=\"89.54236942708201\" y1=\"211.71875\" y2=\"0.0\" /><line fill=\"#800080\" stroke=\"#d3d3d3\" stroke-width=\"1\" x1=\"34.6875\" x2=\"195.38440242163483\" y1=\"212.5\" y2=\"20.988889220255462\" /><line fill=\"#800080\" stroke=\"#add8e6\" stroke-width=\"1\" x1=\"35.9375\" x2=\"250.0\" y1=\"213.4375\" y2=\"113.61850937500002\" /><line fill=\"#800080\" stroke=\"#add8e6\" stroke-width=\"1\" x1=\"36.71875\" x2=\"250.0\" y1=\"215.625\" y2=\"215.625\" /><line fill=\"#800080\" stroke=\"#add8e6\" stroke-width=\"1\" x1=\"36.71875\" x2=\"250.0\" y1=\"221.875\" y2=\"221.875\" /><line fill=\"#800080\" stroke=\"#add8e6\" stroke-width=\"1\" x1=\"35.9375\" x2=\"91.5606462749811\" y1=\"224.0625\" y2=\"250.0\" /><line fill=\"#800080\" stroke=\"#add8e6\" stroke-width=\"1\" x1=\"34.68749999999999\" x2=\"55.66499075396123\" y1=\"225.0\" y2=\"250.0\" /><line fill=\"#800080\" stroke=\"#add8e6\" stroke-width=\"1\" x1=\"32.8125\" x2=\"39.3018943981656\" y1=\"225.78125\" y2=\"250.0\" /><line fill=\"#800080\" stroke=\"#add8e6\" stroke-width=\"1\" x1=\"29.6875\" x2=\"23.198105601834406\" y1=\"225.78125\" y2=\"250.0\" /><line fill=\"#800080\" stroke=\"#add8e6\" stroke-width=\"1\" x1=\"27.8125\" x2=\"6.835009246038779\" y1=\"225.0\" y2=\"250.0\" /><line fill=\"#800080\" stroke=\"#add8e6\" stroke-width=\"1\" x1=\"26.5625\" x2=\"0.0\" y1=\"224.0625\" y2=\"236.448796875\" /><line fill=\"#800080\" stroke=\"#add8e6\" stroke-width=\"1\" x1=\"25.78125\" x2=\"0.0\" y1=\"221.875\" y2=\"221.875\" /><line fill=\"#800080\" stroke=\"#ffa500\" stroke-width=\"1\" x1=\"218.75\" x2=\"25.78125\" y1=\"31.25\" y2=\"211.71875\" /><line fill=\"#800080\" stroke=\"#ffa500\" stroke-width=\"1\" x1=\"218.75\" x2=\"36.71875\" y1=\"31.25\" y2=\"211.71875\" /><line fill=\"#800080\" stroke=\"#a020f0\" stroke-width=\"1\" x1=\"31.25\" x2=\"0.0\" y1=\"218.75\" y2=\"200.707803125\" /><line fill=\"#800080\" stroke=\"#a020f0\" stroke-width=\"1\" x1=\"31.25\" x2=\"250.0\" y1=\"218.75\" y2=\"92.454621875\" /><polygon fill=\"red\" points=\"28.75,211.71875 25.78125,214.0625 25.78125,223.4375 28.75,225.78125 33.75,225.78125 36.71875,223.4375 36.71875,214.0625 33.75,211.71875\" stroke=\"red\" stroke-width=\"1\" /><polygon points=\"-1.5625,-1.5625 0,0 1.5625,-1.5625 0,1.5625\" stroke=\"black\" stroke-width=\"1\" transform=\"translate(31.25,218.75) rotate(180.0)\" /><circle cx=\"25.78125\" cy=\"211.71875\" fill=\"yellow\" r=\"0.78125\" stroke=\"orange\" stroke-width=\"1\" /><circle cx=\"36.71875\" cy=\"211.71875\" fill=\"yellow\" r=\"0.78125\" stroke=\"orange\" stroke-width=\"1\" /><polygon fill=\"black\" points=\"33.125,214.37499999999997 33.125,216.87499999999997 29.375,216.87499999999997 29.375,214.37499999999997\" stroke=\"black\" stroke-width=\"1\" /></svg>"
      ],
      "text/plain": [
       "<jyro.simulator.canvas.Canvas at 0x7fb5753559d0>"
      ]
     },
     "execution_count": 4,
     "metadata": {},
     "output_type": "execute_result"
    }
   ],
   "source": [
    "canvas = Canvas((250, 250))\n",
    "sim.draw(canvas)"
   ]
  },
  {
   "cell_type": "markdown",
   "metadata": {},
   "source": [
    "## Let's run a simple walking brain on our robot for 100 timesteps."
   ]
  },
  {
   "cell_type": "code",
   "execution_count": 5,
   "metadata": {},
   "outputs": [],
   "source": [
    "def walking_brain(robot):\n",
    "    robot.move(1, 0)\n",
    "    \n",
    "robot.brain = walking_brain\n",
    "\n",
    "for i in range(100):\n",
    "    sim.step(run_brain=True)"
   ]
  },
  {
   "cell_type": "markdown",
   "metadata": {},
   "source": [
    "### Notice nothing happened in our image above. That's because its a *still shot* of the simulator when we called it. We can call it again to get a picture of what the simulated world looks like now, though. "
   ]
  },
  {
   "cell_type": "code",
   "execution_count": 6,
   "metadata": {},
   "outputs": [
    {
     "data": {
      "image/svg+xml": [
       "<svg baseProfile=\"full\" height=\"250\" version=\"1.1\" width=\"250\" xmlns=\"http://www.w3.org/2000/svg\" xmlns:ev=\"http://www.w3.org/2001/xml-events\" xmlns:xlink=\"http://www.w3.org/1999/xlink\"><defs /><rect fill=\"#eef3dd\" height=\"250.0\" stroke=\"#bebebe\" stroke-width=\"1\" width=\"250.0\" x=\"0.0\" y=\"0.0\" /><circle cx=\"218.75\" cy=\"31.25\" fill=\"#ffff00\" r=\"7.8125\" stroke=\"#ffff00\" stroke-width=\"1\" /><line fill=\"#800080\" stroke=\"#add8e6\" stroke-width=\"1\" x1=\"25.78125\" x2=\"0.0\" y1=\"6.250000000000338\" y2=\"6.250000000000005\" /><line fill=\"#800080\" stroke=\"#add8e6\" stroke-width=\"1\" x1=\"26.5625\" x2=\"17.85043840151044\" y1=\"4.0625000000003295\" y2=\"0.0\" /><line fill=\"#800080\" stroke=\"#add8e6\" stroke-width=\"1\" x1=\"27.8125\" x2=\"25.19031356397833\" y1=\"3.125000000000322\" y2=\"0.0\" /><line fill=\"#800080\" stroke=\"#add8e6\" stroke-width=\"1\" x1=\"29.6875\" x2=\"29.05949435520798\" y1=\"2.3437500000003384\" y2=\"0.0\" /><line fill=\"#800080\" stroke=\"#add8e6\" stroke-width=\"1\" x1=\"32.8125\" x2=\"33.44050564479201\" y1=\"2.3437500000003384\" y2=\"0.0\" /><line fill=\"#800080\" stroke=\"#add8e6\" stroke-width=\"1\" x1=\"34.6875\" x2=\"37.309686436021686\" y1=\"3.125000000000322\" y2=\"0.0\" /><line fill=\"#800080\" stroke=\"#add8e6\" stroke-width=\"1\" x1=\"35.9375\" x2=\"44.64956159848959\" y1=\"4.0625000000003295\" y2=\"0.0\" /><line fill=\"#800080\" stroke=\"#add8e6\" stroke-width=\"1\" x1=\"36.71875\" x2=\"250.0\" y1=\"6.250000000000338\" y2=\"6.250000000000005\" /><line fill=\"#800080\" stroke=\"#add8e6\" stroke-width=\"1\" x1=\"36.71875\" x2=\"250.0\" y1=\"12.500000000000316\" y2=\"12.50000000000001\" /><line fill=\"#800080\" stroke=\"#add8e6\" stroke-width=\"1\" x1=\"35.9375\" x2=\"250.0\" y1=\"14.687500000000325\" y2=\"114.50649062500001\" /><line fill=\"#800080\" stroke=\"#d3d3d3\" stroke-width=\"1\" x1=\"34.68749999999999\" x2=\"195.3844024216348\" y1=\"15.625000000000334\" y2=\"207.13611077974485\" /><line fill=\"#800080\" stroke=\"#add8e6\" stroke-width=\"1\" x1=\"32.8125\" x2=\"95.40375818045558\" y1=\"16.406250000000316\" y2=\"250.0\" /><line fill=\"#800080\" stroke=\"#add8e6\" stroke-width=\"1\" x1=\"29.6875\" x2=\"0.0\" y1=\"16.406250000000316\" y2=\"127.20150624999998\" /><line fill=\"#800080\" stroke=\"#add8e6\" stroke-width=\"1\" x1=\"27.8125\" x2=\"0.0\" y1=\"15.625000000000334\" y2=\"48.77064687499999\" /><line fill=\"#800080\" stroke=\"#add8e6\" stroke-width=\"1\" x1=\"26.5625\" x2=\"0.0\" y1=\"14.687500000000325\" y2=\"27.073796875\" /><line fill=\"#800080\" stroke=\"#add8e6\" stroke-width=\"1\" x1=\"25.78125\" x2=\"0.0\" y1=\"12.500000000000316\" y2=\"12.50000000000001\" /><line fill=\"#800080\" stroke=\"#ffa500\" stroke-width=\"1\" x1=\"218.75\" x2=\"25.78125\" y1=\"31.25\" y2=\"2.3437500000003384\" /><line fill=\"#800080\" stroke=\"#ffa500\" stroke-width=\"1\" x1=\"218.75\" x2=\"36.71875\" y1=\"31.25\" y2=\"2.3437500000003384\" /><line fill=\"#800080\" stroke=\"#a020f0\" stroke-width=\"1\" x1=\"31.25\" x2=\"15.012024545583513\" y1=\"9.375000000000327\" y2=\"0.0\" /><line fill=\"#800080\" stroke=\"#a020f0\" stroke-width=\"1\" x1=\"31.25\" x2=\"47.487975454416485\" y1=\"9.375000000000327\" y2=\"0.0\" /><polygon fill=\"white\" points=\"28.75,2.3437500000003384 25.78125,4.687500000000316 25.78125,14.06250000000034 28.75,16.406250000000316 33.75,16.406250000000316 36.71875,14.06250000000034 36.71875,4.687500000000316 33.75,2.3437500000003384\" stroke=\"black\" stroke-width=\"1\" /><polygon points=\"-1.5625,-1.5625 0,0 1.5625,-1.5625 0,1.5625\" stroke=\"black\" stroke-width=\"1\" transform=\"translate(31.25,9.375000000000327) rotate(180.0)\" /><circle cx=\"25.78125\" cy=\"2.3437500000003384\" fill=\"yellow\" r=\"0.78125\" stroke=\"orange\" stroke-width=\"1\" /><circle cx=\"36.71875\" cy=\"2.3437500000003384\" fill=\"yellow\" r=\"0.78125\" stroke=\"orange\" stroke-width=\"1\" /><polygon fill=\"black\" points=\"33.125,5.0000000000003375 33.125,7.500000000000339 29.375,7.500000000000339 29.375,5.0000000000003375\" stroke=\"black\" stroke-width=\"1\" /></svg>"
      ],
      "text/plain": [
       "<jyro.simulator.canvas.Canvas at 0x7fb5753813d0>"
      ]
     },
     "execution_count": 6,
     "metadata": {},
     "output_type": "execute_result"
    }
   ],
   "source": [
    "canvas = Canvas((250, 250))\n",
    "sim.draw(canvas)"
   ]
  },
  {
   "cell_type": "markdown",
   "metadata": {},
   "source": [
    "# We're going to define a weird helper function that returns a function. That sounds complicated, but it's pretty easy once you look at it. \n",
    "\n",
    "### We need this because the Jyro simulator expects the brain of a robot to be a function. But, we want to use neural networks to control that function, so we need a way of plugging our neural networks into the robot brain function easily. "
   ]
  },
  {
   "cell_type": "code",
   "execution_count": 7,
   "metadata": {},
   "outputs": [],
   "source": [
    "def network_to_brain(simple_net):\n",
    "    \n",
    "    #Define the brain function for jyro\n",
    "    def neural_brain(a_robot):\n",
    "        sonar_sensors = a_robot[\"sonar\"].getData()\n",
    "        light_sensors = a_robot[\"light\"].getData()\n",
    "        \n",
    "        #combine the sonar and light inputs\n",
    "        combined_input = sonar_sensors + light_sensors\n",
    "\n",
    "        network = simple_net\n",
    "\n",
    "        #run the neural network with the combined input values\n",
    "        output = network.execute(combined_input)\n",
    "        \n",
    "        #use the output of the network to move the robot\n",
    "        a_robot.move(output[0], output[1])\n",
    "\n",
    "    return neural_brain"
   ]
  },
  {
   "cell_type": "markdown",
   "metadata": {},
   "source": [
    "### Let's reset our robot and try running a random neural brain now!"
   ]
  },
  {
   "cell_type": "code",
   "execution_count": 8,
   "metadata": {},
   "outputs": [
    {
     "data": {
      "image/svg+xml": [
       "<svg baseProfile=\"full\" height=\"250\" version=\"1.1\" width=\"250\" xmlns=\"http://www.w3.org/2000/svg\" xmlns:ev=\"http://www.w3.org/2001/xml-events\" xmlns:xlink=\"http://www.w3.org/1999/xlink\"><defs /><rect fill=\"#eef3dd\" height=\"250.0\" stroke=\"#bebebe\" stroke-width=\"1\" width=\"250.0\" x=\"0.0\" y=\"0.0\" /><circle cx=\"218.75\" cy=\"31.25\" fill=\"#ffff00\" r=\"7.8125\" stroke=\"#ffff00\" stroke-width=\"1\" /><line fill=\"#800080\" stroke=\"#add8e6\" stroke-width=\"1\" x1=\"25.78125\" x2=\"0.0\" y1=\"215.625\" y2=\"215.625\" /><line fill=\"#800080\" stroke=\"#add8e6\" stroke-width=\"1\" x1=\"26.5625\" x2=\"0.0\" y1=\"213.4375\" y2=\"201.051203125\" /><line fill=\"#800080\" stroke=\"#add8e6\" stroke-width=\"1\" x1=\"27.8125\" x2=\"0.0\" y1=\"212.5\" y2=\"179.35435312500002\" /><line fill=\"#800080\" stroke=\"#add8e6\" stroke-width=\"1\" x1=\"29.6875\" x2=\"0.0\" y1=\"211.71875\" y2=\"100.92349375\" /><line fill=\"#800080\" stroke=\"#add8e6\" stroke-width=\"1\" x1=\"32.8125\" x2=\"89.54236942708201\" y1=\"211.71875\" y2=\"0.0\" /><line fill=\"#800080\" stroke=\"#d3d3d3\" stroke-width=\"1\" x1=\"34.6875\" x2=\"195.38440242163483\" y1=\"212.5\" y2=\"20.988889220255462\" /><line fill=\"#800080\" stroke=\"#add8e6\" stroke-width=\"1\" x1=\"35.9375\" x2=\"250.0\" y1=\"213.4375\" y2=\"113.61850937500002\" /><line fill=\"#800080\" stroke=\"#add8e6\" stroke-width=\"1\" x1=\"36.71875\" x2=\"250.0\" y1=\"215.625\" y2=\"215.625\" /><line fill=\"#800080\" stroke=\"#add8e6\" stroke-width=\"1\" x1=\"36.71875\" x2=\"250.0\" y1=\"221.875\" y2=\"221.875\" /><line fill=\"#800080\" stroke=\"#add8e6\" stroke-width=\"1\" x1=\"35.9375\" x2=\"91.5606462749811\" y1=\"224.0625\" y2=\"250.0\" /><line fill=\"#800080\" stroke=\"#add8e6\" stroke-width=\"1\" x1=\"34.68749999999999\" x2=\"55.66499075396123\" y1=\"225.0\" y2=\"250.0\" /><line fill=\"#800080\" stroke=\"#add8e6\" stroke-width=\"1\" x1=\"32.8125\" x2=\"39.3018943981656\" y1=\"225.78125\" y2=\"250.0\" /><line fill=\"#800080\" stroke=\"#add8e6\" stroke-width=\"1\" x1=\"29.6875\" x2=\"23.198105601834406\" y1=\"225.78125\" y2=\"250.0\" /><line fill=\"#800080\" stroke=\"#add8e6\" stroke-width=\"1\" x1=\"27.8125\" x2=\"6.835009246038779\" y1=\"225.0\" y2=\"250.0\" /><line fill=\"#800080\" stroke=\"#add8e6\" stroke-width=\"1\" x1=\"26.5625\" x2=\"0.0\" y1=\"224.0625\" y2=\"236.448796875\" /><line fill=\"#800080\" stroke=\"#add8e6\" stroke-width=\"1\" x1=\"25.78125\" x2=\"0.0\" y1=\"221.875\" y2=\"221.875\" /><line fill=\"#800080\" stroke=\"#ffa500\" stroke-width=\"1\" x1=\"218.75\" x2=\"25.78125\" y1=\"31.25\" y2=\"211.71875\" /><line fill=\"#800080\" stroke=\"#ffa500\" stroke-width=\"1\" x1=\"218.75\" x2=\"36.71875\" y1=\"31.25\" y2=\"211.71875\" /><line fill=\"#800080\" stroke=\"#a020f0\" stroke-width=\"1\" x1=\"31.25\" x2=\"0.0\" y1=\"218.75\" y2=\"200.707803125\" /><line fill=\"#800080\" stroke=\"#a020f0\" stroke-width=\"1\" x1=\"31.25\" x2=\"250.0\" y1=\"218.75\" y2=\"92.454621875\" /><polygon fill=\"red\" points=\"28.75,211.71875 25.78125,214.0625 25.78125,223.4375 28.75,225.78125 33.75,225.78125 36.71875,223.4375 36.71875,214.0625 33.75,211.71875\" stroke=\"red\" stroke-width=\"1\" /><polygon points=\"-1.5625,-1.5625 0,0 1.5625,-1.5625 0,1.5625\" stroke=\"black\" stroke-width=\"1\" transform=\"translate(31.25,218.75) rotate(180.0)\" /><circle cx=\"25.78125\" cy=\"211.71875\" fill=\"yellow\" r=\"0.78125\" stroke=\"orange\" stroke-width=\"1\" /><circle cx=\"36.71875\" cy=\"211.71875\" fill=\"yellow\" r=\"0.78125\" stroke=\"orange\" stroke-width=\"1\" /><polygon fill=\"black\" points=\"33.125,214.37499999999997 33.125,216.87499999999997 29.375,216.87499999999997 29.375,214.37499999999997\" stroke=\"black\" stroke-width=\"1\" /></svg>"
      ],
      "text/plain": [
       "<jyro.simulator.canvas.Canvas at 0x7fb575381ee0>"
      ]
     },
     "execution_count": 8,
     "metadata": {},
     "output_type": "execute_result"
    }
   ],
   "source": [
    "robot.setPose(1,1,0)\n",
    "robot.reset()\n",
    "\n",
    "#make a neural net with 18 inputs, and 2 outputs, and no hidden neurons for now.\n",
    "neural_net = SimpleNeuralNet(18,2, []) \n",
    "\n",
    "#turn our neural network into a robot brain, and assign it\n",
    "robot.brain = network_to_brain(neural_net)\n",
    "\n",
    "\n",
    "canvas = Canvas((250, 250))\n",
    "sim.draw(canvas)"
   ]
  },
  {
   "cell_type": "markdown",
   "metadata": {},
   "source": [
    "## Even though we're not in the visual simulator, we can watch the simulation by drawing each time step as we run the simulation.\n",
    "\n",
    "#### This is not something you should do while you're trying to evaluate a bunch of brains though!"
   ]
  },
  {
   "cell_type": "code",
   "execution_count": 11,
   "metadata": {},
   "outputs": [
    {
     "data": {
      "image/svg+xml": [
       "<svg baseProfile=\"full\" height=\"250\" version=\"1.1\" width=\"250\" xmlns=\"http://www.w3.org/2000/svg\" xmlns:ev=\"http://www.w3.org/2001/xml-events\" xmlns:xlink=\"http://www.w3.org/1999/xlink\"><defs /><rect fill=\"#eef3dd\" height=\"250.0\" stroke=\"#bebebe\" stroke-width=\"1\" width=\"250.0\" x=\"0.0\" y=\"0.0\" /><circle cx=\"218.75\" cy=\"31.25\" fill=\"#ffff00\" r=\"7.8125\" stroke=\"#ffff00\" stroke-width=\"1\" /><line fill=\"#800080\" stroke=\"#add8e6\" stroke-width=\"1\" x1=\"5.410292406113991\" x2=\"0.0\" y1=\"198.11568983336633\" y2=\"217.604121875\" /><line fill=\"#800080\" stroke=\"#add8e6\" stroke-width=\"1\" x1=\"3.5114923353768415\" x2=\"0.0\" y1=\"196.77775631339287\" y2=\"200.8869375\" /><line fill=\"#800080\" stroke=\"#add8e6\" stroke-width=\"1\" x1=\"2.9425300723289567\" x2=\"0.0\" y1=\"195.32252842978582\" y2=\"196.66255625000002\" /><line fill=\"#800080\" stroke=\"#add8e6\" stroke-width=\"1\" x1=\"2.691310543642877\" x2=\"0.0\" y1=\"193.3068733722656\" y2=\"193.28265625\" /><line fill=\"#800080\" stroke=\"#add8e6\" stroke-width=\"1\" x1=\"3.5272443830947138\" x2=\"0.0\" y1=\"190.29575404283688\" y2=\"188.2167625\" /><line fill=\"#800080\" stroke=\"#add8e6\" stroke-width=\"1\" x1=\"4.7815845191229975\" x2=\"0.0\" y1=\"188.69806590504263\" y2=\"181.7367875\" /><line fill=\"#800080\" stroke=\"#add8e6\" stroke-width=\"1\" x1=\"6.01929385373235\" x2=\"0.0\" y1=\"187.74439832510666\" y2=\"151.71469375\" /><line fill=\"#800080\" stroke=\"#add8e6\" stroke-width=\"1\" x1=\"8.336060844195417\" x2=\"60.41030799569463\" y1=\"187.5767721803658\" y2=\"0.0\" /><line fill=\"#800080\" stroke=\"#add8e6\" stroke-width=\"1\" x1=\"14.358299503052875\" x2=\"66.89668308300499\" y1=\"189.24863985926945\" y2=\"0.0\" /><line fill=\"#800080\" stroke=\"#d3d3d3\" stroke-width=\"1\" x1=\"16.257099573790022\" x2=\"178.6704887769606\" y1=\"190.58657337924294\" y2=\"0.5289741953654337\" /><line fill=\"#800080\" stroke=\"#d3d3d3\" stroke-width=\"1\" x1=\"16.82606183683791\" x2=\"244.34439338838652\" y1=\"192.04180126285\" y2=\"88.42998336547109\" /><line fill=\"#800080\" stroke=\"#add8e6\" stroke-width=\"1\" x1=\"17.07728136552399\" x2=\"250.0\" y1=\"194.05745632037016\" y2=\"196.15310937499999\" /><line fill=\"#800080\" stroke=\"#add8e6\" stroke-width=\"1\" x1=\"16.24134752607215\" x2=\"106.04556644103391\" y1=\"197.06857564979887\" y2=\"250.0\" /><line fill=\"#800080\" stroke=\"#add8e6\" stroke-width=\"1\" x1=\"14.98700739004387\" x2=\"50.247281334042285\" y1=\"198.66626378759318\" y2=\"250.0\" /><line fill=\"#800080\" stroke=\"#add8e6\" stroke-width=\"1\" x1=\"13.749298055434515\" x2=\"22.16603119687132\" y1=\"199.6199313675291\" y2=\"250.0\" /><line fill=\"#800080\" stroke=\"#add8e6\" stroke-width=\"1\" x1=\"11.432531064971448\" x2=\"0.0\" y1=\"199.78755751227\" y2=\"240.96870625\" /><line fill=\"#800080\" stroke=\"#ffa500\" stroke-width=\"1\" x1=\"218.75\" x2=\"1.6463932443280818\" y1=\"31.25\" y2=\"197.07077253405154\" /><line fill=\"#800080\" stroke=\"#ffa500\" stroke-width=\"1\" x1=\"218.75\" x2=\"4.572161682409509\" y1=\"31.25\" y2=\"186.53185488105098\" /><line fill=\"#800080\" stroke=\"#a020f0\" stroke-width=\"1\" x1=\"9.884295954583433\" x2=\"0.0\" y1=\"193.6821648463179\" y2=\"203.3901875\" /><line fill=\"#800080\" stroke=\"#a020f0\" stroke-width=\"1\" x1=\"9.884295954583433\" x2=\"0.0\" y1=\"193.6821648463179\" y2=\"155.4197625\" /><polygon fill=\"white\" points=\"2.440530391807326,194.21020917109425 3.9047327413996276,197.6977229136404 12.938090729685811,200.2055244319959 15.990567374236601,197.9719114486275 17.32806151735954,193.15412052154156 15.863859167767238,189.66660677899537 6.830501179481055,187.15880526063987 3.778024534930265,189.39241824400827\" stroke=\"black\" stroke-width=\"1\" /><polygon points=\"-1.5625,-1.5625 0,0 1.5625,-1.5625 0,1.5625\" stroke=\"black\" stroke-width=\"1\" transform=\"translate(9.884295954583433,193.6821648463179) rotate(105.51548663299299)\" /><circle cx=\"1.6463932443280818\" cy=\"197.07077253405154\" fill=\"yellow\" r=\"0.78125\" stroke=\"orange\" stroke-width=\"1\" /><circle cx=\"4.572161682409509\" cy=\"186.53185488105098\" fill=\"yellow\" r=\"0.78125\" stroke=\"orange\" stroke-width=\"1\" /><polygon fill=\"black\" points=\"6.1702891970543154,190.7051858734281 8.579184660597297,191.37393294498955 7.576064053255093,194.98727614030403 5.167168589712111,194.31852906874255\" stroke=\"black\" stroke-width=\"1\" /></svg>"
      ],
      "text/plain": [
       "<jyro.simulator.canvas.Canvas at 0x7fb575381ee0>"
      ]
     },
     "metadata": {},
     "output_type": "display_data"
    }
   ],
   "source": [
    "for i in range(50):\n",
    "    #run the simulation for one step\n",
    "    sim.step(run_brain=True)\n",
    "    \n",
    "    #draw the output, overwriting the last\n",
    "    sim.draw(canvas)\n",
    "    clear_output(wait=True)\n",
    "    display(canvas)\n",
    "    \n",
    "    #pause for enough time to enjoy it\n",
    "    time.sleep(.085)"
   ]
  },
  {
   "cell_type": "markdown",
   "metadata": {},
   "source": [
    "## I'm bringing in some helper functions we wrote in previous notebooks. \n",
    "\n",
    "## `tournament_selection` expects a list of individuals (in our case, neural networks) and a list of their fitness values. \n",
    "I'm passing in a fitness list instead of evaluating individuals every time we encounter them because evaluation is much slower in this environment. \n",
    "\n",
    "## `mutate_network` expects a network, and optionally the probability of mutating an edge weight (`mutation_rate`) and the effect size of the mutations (`mutation_effect_size`)\n",
    "This function tries to be speedy with mutations, by calculating how many mutations should occur, and then picking the ones to mutate randomly from the neurons. "
   ]
  },
  {
   "cell_type": "code",
   "execution_count": 15,
   "metadata": {},
   "outputs": [],
   "source": [
    "def tournament_selection(population, fitnesses, tournament_size=3):\n",
    "    sample_pop_idxs = np.random.choice(range(len(population)), size=tournament_size)\n",
    "    tourny_winner_idx = np.argmax(np.array(fitnesses)[sample_pop_idxs])\n",
    "    winner_pop_idx = sample_pop_idxs[tourny_winner_idx]\n",
    "\n",
    "    return population[winner_pop_idx]\n",
    "    \n",
    "def mutate_network(simple_net, mutation_rate=1E-3, mutation_effect_size=2):\n",
    "    for layer_to_mut in simple_net.layers:\n",
    "        dims = layer_to_mut.shape\n",
    "        num_mutations = np.random.binomial(dims[0]*dims[1], mutation_rate)\n",
    "        for i in range(num_mutations):\n",
    "            rand_i = np.random.randint(0, dims[0])\n",
    "            rand_j = np.random.randint(0, dims[1])\n",
    "            layer_to_mut[rand_i, rand_j] += np.random.normal(scale=mutation_effect_size)\n"
   ]
  },
  {
   "cell_type": "markdown",
   "metadata": {},
   "source": [
    "# Now we have to figure out a way of evaluating our brains.\n",
    "#### We'll stick the network into the brain of the robot, and run it in the simulation (without visualizing it so it goes fast). \n",
    "\n",
    "# But, what should we reward?\n",
    "#### In this simple fitness function, I'm just counting up how far the robot moved during it's trial and calling that it's fitness. "
   ]
  },
  {
   "cell_type": "code",
   "execution_count": 16,
   "metadata": {},
   "outputs": [],
   "source": [
    "def measure_neuralnet_fitness(simple_net, iterations=20):\n",
    "    robot.brain = network_to_brain(simple_net)\n",
    "    distance_moved = 0\n",
    "    \n",
    "    #reset the robot's position\n",
    "    robot.setPose(1, 1, 0)\n",
    "    robot.reset()\n",
    "    \n",
    "    #iterate through the simulation\n",
    "    for i in range(iterations):        \n",
    "        #but if the robot's stuck, end early!\n",
    "        if robot.stall:\n",
    "            break\n",
    "            \n",
    "        #move the robot\n",
    "        cur_pos = robot.getPose()\n",
    "        sim.step(run_brain=True)\n",
    "        next_pos = robot.getPose()\n",
    "        \n",
    "        #and keep track of how far it moved\n",
    "        distance_moved += np.linalg.norm(np.array(cur_pos[0:2]) - np.array(next_pos[0:2]))\n",
    "        \n",
    "    return distance_moved"
   ]
  },
  {
   "cell_type": "markdown",
   "metadata": {},
   "source": [
    "# So, now we can measure fitness, let's evolve some robot brains! \n",
    "## We'll start off small, because this is a slow simulation. We'll use a population of 20 robots, and let them evolve them for 10 genrations.\n",
    "\n",
    "## We'll also only use 50 timesteps of the simulation for each evaluation. "
   ]
  },
  {
   "cell_type": "code",
   "execution_count": 17,
   "metadata": {},
   "outputs": [
    {
     "data": {
      "text/plain": [
       "9"
      ]
     },
     "metadata": {},
     "output_type": "display_data"
    },
    {
     "data": {
      "text/plain": [
       "4.999999999903307"
      ]
     },
     "metadata": {},
     "output_type": "display_data"
    }
   ],
   "source": [
    "pop_size = 20\n",
    "generations = 10\n",
    "\n",
    "#build our random population of neural networks\n",
    "population = [SimpleNeuralNet(18,2,[5]) for _ in range(pop_size)]\n",
    "evo_fitnesses = []\n",
    "\n",
    "for i in range(generations):\n",
    "    #evaluate the fitnesses using 50 timesteps\n",
    "    fitnesses = [measure_neuralnet_fitness(n, iterations=50) for n in population]\n",
    "    \n",
    "    #keep track of the mean pop fitnesses\n",
    "    evo_fitnesses.append(np.mean(fitnesses))\n",
    "    \n",
    "    #print the generation and the mean fitness we just stuck on the\n",
    "    #evo_fitnesses list\n",
    "    clear_output(wait=True)\n",
    "    display(i, evo_fitnesses[-1])\n",
    "    \n",
    "    #do tournament selection\n",
    "    next_pop = [tournament_selection(population, fitnesses).deepcopy() for _ in range(pop_size)]\n",
    "    \n",
    "    #and mutate the new networks\n",
    "    for net in next_pop:\n",
    "        mutate_network(net, mutation_rate=0.01)\n",
    "    \n",
    "    population = next_pop"
   ]
  },
  {
   "cell_type": "code",
   "execution_count": 19,
   "metadata": {},
   "outputs": [
    {
     "data": {
      "image/svg+xml": [
       "<svg baseProfile=\"full\" height=\"250\" version=\"1.1\" width=\"250\" xmlns=\"http://www.w3.org/2000/svg\" xmlns:ev=\"http://www.w3.org/2001/xml-events\" xmlns:xlink=\"http://www.w3.org/1999/xlink\"><defs /><rect fill=\"#eef3dd\" height=\"250.0\" stroke=\"#bebebe\" stroke-width=\"1\" width=\"250.0\" x=\"0.0\" y=\"0.0\" /><circle cx=\"218.75\" cy=\"31.25\" fill=\"#ffff00\" r=\"7.8125\" stroke=\"#ffff00\" stroke-width=\"1\" /><line fill=\"#800080\" stroke=\"#add8e6\" stroke-width=\"1\" x1=\"88.34079157153337\" x2=\"66.02371293335855\" y1=\"79.039761573658\" y2=\"0.0\" /><line fill=\"#800080\" stroke=\"#add8e6\" stroke-width=\"1\" x1=\"90.65827251576829\" x2=\"103.53200766514935\" y1=\"79.19720961463695\" y2=\"0.0\" /><line fill=\"#800080\" stroke=\"#add8e6\" stroke-width=\"1\" x1=\"91.90015893081286\" x2=\"146.43411498930996\" y1=\"80.14543130924623\" y2=\"0.0\" /><line fill=\"#800080\" stroke=\"#add8e6\" stroke-width=\"1\" x1=\"93.16150487149407\" x2=\"230.45644288982274\" y1=\"81.7375942972682\" y2=\"0.0\" /><line fill=\"#800080\" stroke=\"#add8e6\" stroke-width=\"1\" x1=\"94.0106571020343\" x2=\"250.0\" y1=\"84.74501270669654\" y2=\"82.65626875000001\" /><line fill=\"#800080\" stroke=\"#add8e6\" stroke-width=\"1\" x1=\"93.76829383800133\" x2=\"250.0\" y1=\"86.76175180998862\" y2=\"157.082721875\" /><line fill=\"#800080\" stroke=\"#add8e6\" stroke-width=\"1\" x1=\"93.2057292073889\" x2=\"232.68921459021064\" y1=\"88.21946484292204\" y2=\"250.0\" /><line fill=\"#800080\" stroke=\"#add8e6\" stroke-width=\"1\" x1=\"91.3128243784241\" x2=\"136.61184967398304\" y1=\"89.56572600665727\" y2=\"250.0\" /><line fill=\"#800080\" stroke=\"#add8e6\" stroke-width=\"1\" x1=\"85.29798755956739\" x2=\"130.11749155067082\" y1=\"91.26403046773768\" y2=\"250.0\" /><line fill=\"#800080\" stroke=\"#add8e6\" stroke-width=\"1\" x1=\"82.98050661533247\" x2=\"57.151922746221736\" y1=\"91.10658242675873\" y2=\"250.0\" /><line fill=\"#800080\" stroke=\"#add8e6\" stroke-width=\"1\" x1=\"81.7386202002879\" x2=\"0.0\" y1=\"90.15836073214945\" y2=\"210.28493125\" /><line fill=\"#800080\" stroke=\"#add8e6\" stroke-width=\"1\" x1=\"80.47727425960669\" x2=\"0.0\" y1=\"88.56619774412746\" y2=\"136.4777875\" /><line fill=\"#800080\" stroke=\"#add8e6\" stroke-width=\"1\" x1=\"79.62812202906646\" x2=\"0.0\" y1=\"85.55877933469912\" y2=\"86.62502187500002\" /><line fill=\"#800080\" stroke=\"#add8e6\" stroke-width=\"1\" x1=\"79.87048529309943\" x2=\"0.0\" y1=\"83.54204023140704\" y2=\"47.591784375\" /><line fill=\"#800080\" stroke=\"#add8e6\" stroke-width=\"1\" x1=\"80.43304992371186\" x2=\"9.661816172788587\" y1=\"82.08432719847364\" y2=\"0.0\" /><line fill=\"#800080\" stroke=\"#add8e6\" stroke-width=\"1\" x1=\"82.32595475267667\" x2=\"59.52935728934769\" y1=\"80.73806603473841\" y2=\"0.0\" /><line fill=\"#800080\" stroke=\"#ffa500\" stroke-width=\"1\" x1=\"218.75\" x2=\"92.10006458331884\" y1=\"31.25\" y2=\"77.97832128548276\" /><line fill=\"#800080\" stroke=\"#ffa500\" stroke-width=\"1\" x1=\"218.75\" x2=\"95.07209739020954\" y1=\"31.25\" y2=\"88.50428571848201\" /><line fill=\"#800080\" stroke=\"#a020f0\" stroke-width=\"1\" x1=\"86.81938956555038\" x2=\"108.4180693742732\" y1=\"85.15189602069783\" y2=\"0.0\" /><line fill=\"#800080\" stroke=\"#a020f0\" stroke-width=\"1\" x1=\"86.81938956555038\" x2=\"250.0\" y1=\"85.15189602069783\" y2=\"244.02018125\" /><polygon fill=\"red\" points=\"92.90675920233201,80.8353687744397 89.84450077624756,78.61518545838791 80.8222455479625,81.16264215000851 79.37337635990441,84.6565538118706 80.73201992876875,89.46842326695598 83.7942783548532,91.68860658300775 92.81653358313827,89.14114989138716 94.26540277119635,85.64723822952509\" stroke=\"red\" stroke-width=\"1\" /><polygon points=\"-1.5625,-1.5625 0,0 1.5625,-1.5625 0,1.5625\" stroke=\"black\" stroke-width=\"1\" transform=\"translate(86.81938956555038,85.15189602069783) rotate(-105.7671613209123)\" /><circle cx=\"92.10006458331884\" cy=\"77.97832128548276\" fill=\"yellow\" r=\"0.78125\" stroke=\"orange\" stroke-width=\"1\" /><circle cx=\"95.07209739020954\" cy=\"88.50428571848201\" fill=\"yellow\" r=\"0.78125\" stroke=\"orange\" stroke-width=\"1\" /><polygon fill=\"black\" points=\"91.5392666770742,85.76753394359856 89.13333194953152,86.44685572803074 88.11434927288327,82.8379536367167 90.52028400042596,82.15863185228453\" stroke=\"black\" stroke-width=\"1\" /></svg>"
      ],
      "text/plain": [
       "<jyro.simulator.canvas.Canvas at 0x7fb575381ee0>"
      ]
     },
     "metadata": {},
     "output_type": "display_data"
    }
   ],
   "source": [
    "#let's visualize the first individual in the population\n",
    "#Note there is no reason to expect this is the best individual!\n",
    "robot.brain = network_to_brain(population[10])\n",
    "robot.setPose(1,1,0)\n",
    "\n",
    "for i in range(50):\n",
    "    sim.step(run_brain=True)\n",
    "    sim.draw(canvas)\n",
    "    clear_output(wait=True)\n",
    "    display(canvas)\n",
    "    time.sleep(.085)"
   ]
  },
  {
   "cell_type": "markdown",
   "metadata": {},
   "source": [
    "# 1. Change the visualization code above to visualize the *best* solution in the population. Hint: `np.argmax` is a function worth keeping in your back pocket at all times. "
   ]
  },
  {
   "cell_type": "code",
   "execution_count": null,
   "metadata": {},
   "outputs": [],
   "source": []
  },
  {
   "cell_type": "markdown",
   "metadata": {},
   "source": [
    "# 2. It seems like fitness is saturating. Why do you think that is? What could you do to \"fix\" this?"
   ]
  },
  {
   "cell_type": "code",
   "execution_count": null,
   "metadata": {},
   "outputs": [],
   "source": []
  },
  {
   "cell_type": "markdown",
   "metadata": {},
   "source": [
    "# 3.  After fixing this saturation problem, see if you can evolve robots that navigate to the light source! \n",
    "## To do this, you will need to change the way fitness is evaluated"
   ]
  },
  {
   "cell_type": "code",
   "execution_count": null,
   "metadata": {},
   "outputs": [],
   "source": [
    "# CHANGE THIS FUNCTION\n",
    "def measure_neuralnet_fitness(simple_net, iterations=20):\n",
    "    robot.brain = network_to_brain(simple_net)\n",
    "    distance_moved = 0\n",
    "    \n",
    "    #reset the robot's position\n",
    "    robot.setPose(1, 1, 0)\n",
    "    robot.reset()\n",
    "    \n",
    "    #iterate through the simulation\n",
    "    for i in range(iterations):        \n",
    "        #but if the robot's stuck, end early!\n",
    "        if robot.stall:\n",
    "            break\n",
    "            \n",
    "        #move the robot\n",
    "        cur_pos = robot.getPose()\n",
    "        sim.step(run_brain=True)\n",
    "        next_pos = robot.getPose()\n",
    "        \n",
    "        #and keep track of how far it moved\n",
    "        distance_moved += np.linalg.norm(np.array(cur_pos[0:2]) - np.array(next_pos[0:2]))\n",
    "        \n",
    "    return distance_moved"
   ]
  }
 ],
 "metadata": {
  "kernelspec": {
   "display_name": "Python 3",
   "language": "python",
   "name": "python3"
  },
  "language_info": {
   "codemirror_mode": {
    "name": "ipython",
    "version": 3
   },
   "file_extension": ".py",
   "mimetype": "text/x-python",
   "name": "python",
   "nbconvert_exporter": "python",
   "pygments_lexer": "ipython3",
   "version": "3.8.5"
  }
 },
 "nbformat": 4,
 "nbformat_minor": 2
}
