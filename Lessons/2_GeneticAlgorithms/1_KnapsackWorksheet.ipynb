{
 "cells": [
  {
   "cell_type": "markdown",
   "metadata": {},
   "source": [
    "# Lets Evolve Some Knapsacks!\n",
    "### Here we're going to generate a population of random collections of items (each with values and weights), and see if we can't evolve some good solutions to filling up our knapsack. \n"
   ]
  },
  {
   "cell_type": "code",
   "execution_count": 1,
   "metadata": {},
   "outputs": [],
   "source": [
    "from numpy import mean, log\n",
    "from matplotlib import pyplot\n",
    "import random\n",
    "random.seed(100)"
   ]
  },
  {
   "cell_type": "markdown",
   "metadata": {},
   "source": [
    "## I'm creating a class here, which for those of you not as familiar with Object-Oriented programing (OOP) is just a way of saying I'm making a way of interacting with something I decided to call an Item that has associated with it a weight and a value.\n",
    "If that doesn't make sense yet, working with it should feel intuitive and hopefully start making more sense as you move through the workbook"
   ]
  },
  {
   "cell_type": "code",
   "execution_count": 2,
   "metadata": {},
   "outputs": [],
   "source": [
    "class Item:\n",
    "    def __init__(self, weight, value):\n",
    "        self.weight = weight\n",
    "        self.value = value\n",
    "        \n",
    "    def __repr__(self):\n",
    "        return \"Item value: {0}, weight: {1}\".format(self.value, self.weight)"
   ]
  },
  {
   "cell_type": "markdown",
   "metadata": {},
   "source": [
    "### Now that we have an Item class, we can create a single item (in OOP, this is called an instance) and pass in the weight and value like we defined in the above __init__ function. \n",
    "The __init__ function tells python what to do when a new instantiation is created (it is short for initialization) \n",
    "\n",
    "### The __repr__ function just tells python how to print this object out when you ask to see it."
   ]
  },
  {
   "cell_type": "code",
   "execution_count": 3,
   "metadata": {},
   "outputs": [
    {
     "name": "stdout",
     "output_type": "stream",
     "text": [
      "Item value: 1.8, weight: 20\n"
     ]
    }
   ],
   "source": [
    "an_item = Item(20, 1.8)\n",
    "print(an_item)"
   ]
  },
  {
   "cell_type": "markdown",
   "metadata": {},
   "source": [
    "### We can use the weight and value properties associated with each Item now in a programatic way"
   ]
  },
  {
   "cell_type": "code",
   "execution_count": 4,
   "metadata": {},
   "outputs": [
    {
     "name": "stdout",
     "output_type": "stream",
     "text": [
      "1.8\n",
      "20\n",
      "That's HEAVY!\n"
     ]
    }
   ],
   "source": [
    "print(an_item.value)\n",
    "print(an_item.weight)\n",
    "\n",
    "if an_item.weight > 10:\n",
    "    print(\"That's HEAVY!\")"
   ]
  },
  {
   "cell_type": "markdown",
   "metadata": {},
   "source": [
    "## Let's create a big list of items with random weights and values.\n",
    "These will be the items we can choose from to fill up our knapsack."
   ]
  },
  {
   "cell_type": "code",
   "execution_count": 5,
   "metadata": {},
   "outputs": [
    {
     "name": "stdout",
     "output_type": "stream",
     "text": [
      "[Item value: 32, weight: 68, Item value: 60, weight: 100, Item value: 65, weight: 54, Item value: 24, weight: 74]\n"
     ]
    }
   ],
   "source": [
    "num_items = 1000\n",
    "max_weight = 200\n",
    "items = [Item(random.randint(10, 100), random.randint(10, 100)) for _ in range(num_items)]\n",
    "print(items[1:5])"
   ]
  },
  {
   "cell_type": "markdown",
   "metadata": {},
   "source": [
    "## We can create a random individual in our population (remember, individuals represent potential solutions to the problem -- in this case a knapsack of items).\n",
    "For this problem, we want to limit ourselves to one of each item so we need to make sure we don't have duplicates. We also want to start off our population with valid solutions (i.e., ones that don't break our knapsack because they're too heavy). \n"
   ]
  },
  {
   "cell_type": "code",
   "execution_count": 6,
   "metadata": {},
   "outputs": [],
   "source": [
    "def random_individual():\n",
    "    total_weight = 0\n",
    "    \n",
    "    #This is a list of the indexes from the item list\n",
    "    #the individual has in its knapsack\n",
    "    org_genotype = []\n",
    "    \n",
    "    while(total_weight < max_weight):\n",
    "        random_item_index = random.randint(0, num_items-1)\n",
    "        \n",
    "        #Make sure this item isn't already in our knapsack.\n",
    "        if random_item_index not in org_genotype:\n",
    "            \n",
    "            #But if this item would break our knapsack, \n",
    "            #lets just go ahead and call this organism done.\n",
    "            if total_weight + items[random_item_index].weight > max_weight:\n",
    "                return org_genotype\n",
    "            \n",
    "            #Otherwise we can add this item and keep going!\n",
    "            else:\n",
    "                org_genotype.append(random_item_index)\n",
    "                total_weight += items[random_item_index].weight\n",
    "    \n",
    "    return org_genotype"
   ]
  },
  {
   "cell_type": "markdown",
   "metadata": {},
   "source": [
    "## Let's look at this random individual a bit..."
   ]
  },
  {
   "cell_type": "code",
   "execution_count": 12,
   "metadata": {},
   "outputs": [
    {
     "name": "stdout",
     "output_type": "stream",
     "text": [
      "[759, 50, 498]\n"
     ]
    }
   ],
   "source": [
    "individual = random_individual()\n",
    "print(individual)"
   ]
  },
  {
   "cell_type": "code",
   "execution_count": 13,
   "metadata": {},
   "outputs": [
    {
     "name": "stdout",
     "output_type": "stream",
     "text": [
      "Item value: 34, weight: 59\n",
      "Item value: 21, weight: 46\n"
     ]
    }
   ],
   "source": [
    "#We can look at some of the items this individual has\n",
    "print(items[459])\n",
    "print(items[702])"
   ]
  },
  {
   "cell_type": "code",
   "execution_count": 14,
   "metadata": {},
   "outputs": [
    {
     "name": "stdout",
     "output_type": "stream",
     "text": [
      "[74, 38, 47]\n",
      "159\n"
     ]
    }
   ],
   "source": [
    "#We can sum up the items weight to make sure it didn't break our knapsack\n",
    "weights = [items[idx].weight for idx in individual]\n",
    "print(weights)\n",
    "print(sum(weights))"
   ]
  },
  {
   "cell_type": "markdown",
   "metadata": {},
   "source": [
    "## Now let's make a couple of helper functions to return the individuals total value and total weight from their knapsacks"
   ]
  },
  {
   "cell_type": "code",
   "execution_count": 15,
   "metadata": {},
   "outputs": [],
   "source": [
    "def get_genotype_value(genotype):\n",
    "    return sum([items[i].value for i in genotype])\n",
    "\n",
    "def get_genotype_weight(genotype):\n",
    "    return sum([items[i].weight for i in genotype])\n"
   ]
  },
  {
   "cell_type": "code",
   "execution_count": 16,
   "metadata": {},
   "outputs": [
    {
     "name": "stdout",
     "output_type": "stream",
     "text": [
      "243\n",
      "159\n"
     ]
    }
   ],
   "source": [
    "print(get_genotype_value(individual))\n",
    "print(get_genotype_weight(individual))"
   ]
  },
  {
   "cell_type": "markdown",
   "metadata": {},
   "source": [
    "# 1) Great, we have individuals! Now, how do we implement mutations? \n",
    "### This is a rather open ended question, so lets focus for now on point mutations (i.e., exchanging one item in the knapsack for another randomly selected item). \n",
    "### Remember, you need to ensure the item is not already in the knapsack!"
   ]
  },
  {
   "cell_type": "code",
   "execution_count": 12,
   "metadata": {},
   "outputs": [],
   "source": [
    "#IMPLEMENT THIS FUNCTION\n",
    "def point_mutation(genotype):\n",
    "    \n",
    "    return genotype\n",
    "    \n",
    "\n",
    "#Helper function that will work once point_mutation\n",
    "#is implemeneted.\n",
    "def mutate_genotype(genotype, prob_mut=0.5):\n",
    "    #lets make a copy of our genotype\n",
    "    mutated_genotype = genotype[:]\n",
    "\n",
    "    #Mutate with some probability\n",
    "    if random.random() < prob_mut:\n",
    "        point_mutation(mutated_genotype)\n",
    "        \n",
    "    return mutated_genotype\n"
   ]
  },
  {
   "cell_type": "markdown",
   "metadata": {},
   "source": [
    "### Mutate_genotype will use your point_mutation function, so we can test it below. For now, this will just return the same genotype, but once your point_mutation function is working you should be able to test it!"
   ]
  },
  {
   "cell_type": "code",
   "execution_count": 13,
   "metadata": {},
   "outputs": [
    {
     "name": "stdout",
     "output_type": "stream",
     "text": [
      "[573, 139, 543]\n",
      "[573, 139, 543]\n",
      "[573, 139, 543]\n",
      "[573, 139, 543]\n",
      "[573, 139, 543]\n",
      "[573, 139, 543]\n",
      "[573, 139, 543]\n",
      "[573, 139, 543]\n",
      "[573, 139, 543]\n",
      "[573, 139, 543]\n"
     ]
    }
   ],
   "source": [
    "for i in range(10):\n",
    " print(mutate_genotype(individual, prob_mut=0.2))"
   ]
  },
  {
   "cell_type": "markdown",
   "metadata": {},
   "source": [
    "# 2) Now what we have individuals and we can mutate them, how do we assign them a fitness?\n",
    "## Remember that a solution is valid when the weight is less than max_weight, and a better knapsack is one with more value stuffed in it. "
   ]
  },
  {
   "cell_type": "code",
   "execution_count": 14,
   "metadata": {},
   "outputs": [],
   "source": [
    "#IMPLEMENT THIS FUNCTION\n",
    "def get_genotype_fitness(genotype):\n",
    "    return 1.0\n"
   ]
  },
  {
   "cell_type": "markdown",
   "metadata": {},
   "source": [
    "# This is some generic code that runs the evolution part (basically identical to what you all wrote for the previous worksheets). It will use your fitness function and your point mutation function when they're implemented."
   ]
  },
  {
   "cell_type": "code",
   "execution_count": 15,
   "metadata": {},
   "outputs": [
    {
     "data": {
      "image/png": "[encoded data removed]",
      "text/plain": [
       "<matplotlib.figure.Figure at 0x1120dd9e8>"
      ]
     },
     "metadata": {},
     "output_type": "display_data"
    },
    {
     "data": {
      "image/png": "[encoded data removed]",
      "text/plain": [
       "<matplotlib.figure.Figure at 0x119c1b780>"
      ]
     },
     "metadata": {},
     "output_type": "display_data"
    }
   ],
   "source": [
    "pop_size = 1000\n",
    "num_generations = 1000\n",
    "\n",
    "population = [random_individual() for _ in range(pop_size)]\n",
    "pop_fitness = [get_genotype_fitness(g) for g in population]\n",
    "\n",
    "#keep track of mean fitness over time\n",
    "mean_fitnesses = [mean(pop_fitness)]\n",
    "\n",
    "#also keep track of the mean value of knapsacks overtime\n",
    "mean_value = mean([get_genotype_value(ind) for ind in population])\n",
    "mean_values = [mean_value]\n",
    "\n",
    "for generation in range(num_generations):\n",
    "    pop_fitness = [get_genotype_fitness(g) for g in population]\n",
    "    population = random.choices(population, k=pop_size, weights=pop_fitness)\n",
    "    population = [mutate_genotype(g, prob_mut = 0.01) for g in population]\n",
    "    \n",
    "    #record new mean population fitness and knapsack values\n",
    "    mean_fitnesses.append(mean(pop_fitness))\n",
    "    mean_values.append(mean([get_genotype_value(ind) for ind in population]))\n",
    "    \n",
    "#After evolving solutions, plot some figures\n",
    "pyplot.figure()\n",
    "pyplot.plot(mean_values)\n",
    "pyplot.xlabel(\"Generation\")\n",
    "pyplot.ylabel(\"Mean t Value\")\n",
    "pyplot.show()\n",
    "\n",
    "pyplot.figure()\n",
    "pyplot.plot(mean_fitnesses)\n",
    "pyplot.xlabel(\"Generation\")\n",
    "pyplot.ylabel(\"Mean Population Fitness\")\n",
    "pyplot.show()"
   ]
  },
  {
   "cell_type": "markdown",
   "metadata": {},
   "source": [
    "# If you flew through that, think about what other kinds of mutations might be beneficial and implement them. \n",
    "\n",
    "# If you want to say some method you implemented was useful for this problem, how would you test it? Try it!"
   ]
  }
 ],
 "metadata": {
  "kernelspec": {
   "display_name": "Python 3 (ipykernel)",
   "language": "python",
   "name": "python3"
  },
  "language_info": {
   "codemirror_mode": {
    "name": "ipython",
    "version": 3
   },
   "file_extension": ".py",
   "mimetype": "text/x-python",
   "name": "python",
   "nbconvert_exporter": "python",
   "pygments_lexer": "ipython3",
   "version": "3.8.10"
  }
 },
 "nbformat": 4,
 "nbformat_minor": 4
}
