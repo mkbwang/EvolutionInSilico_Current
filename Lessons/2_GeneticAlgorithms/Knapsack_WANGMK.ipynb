{
 "cells": [
  {
   "cell_type": "markdown",
   "id": "e5ef43c6-97f5-4099-b2ef-7350d9af5971",
   "metadata": {},
   "source": [
    "# Knapsack Solution using Genetic Algorithm\n",
    "## Mukai Wang 98830336"
   ]
  },
  {
   "cell_type": "markdown",
   "id": "29736ad3-4e36-4c67-87c0-cd77c660ade7",
   "metadata": {},
   "source": [
    "We first generate 1000 items with weight and value both between 10 and 100. We set the weight limit to be 200."
   ]
  },
  {
   "cell_type": "code",
   "execution_count": 37,
   "id": "0f9c7210-6e4d-40f3-a756-5576c52d2123",
   "metadata": {},
   "outputs": [],
   "source": [
    "import numpy as np\n",
    "import random\n",
    "min_weight = 10\n",
    "max_weight = 100\n",
    "min_value=10\n",
    "max_value = 100\n",
    "num_item = 1000\n",
    "limit = 200\n",
    "random.seed(2022)"
   ]
  },
  {
   "cell_type": "code",
   "execution_count": 38,
   "id": "89d97d40-10a6-4c89-9880-d7230d4b8334",
   "metadata": {},
   "outputs": [],
   "source": [
    "item_weights = np.random.randint(low=min_weight, high=max_weight, size=num_item)\n",
    "item_values = np.random.randint(low=min_value, high=max_value, size=num_item)\n",
    "item_vwratios = item_values / item_weights"
   ]
  },
  {
   "cell_type": "markdown",
   "id": "63e659c5-17ee-432d-a9ac-de19f6b60263",
   "metadata": {},
   "source": [
    "Define value function and weight function. The genotypes are binary vectors."
   ]
  },
  {
   "cell_type": "code",
   "execution_count": 39,
   "id": "96bf9537-0cd1-4f8c-913b-92968391ef8a",
   "metadata": {},
   "outputs": [],
   "source": [
    "def calc_weight(genotype):\n",
    "    return np.sum(item_weights[genotype])\n",
    "\n",
    "def calc_value(genotype):\n",
    "    return np.sum(item_values[genotype])\n",
    "\n",
    "def ifvalid(genotype):\n",
    "    return calc_weight(genotype) <= limit"
   ]
  },
  {
   "cell_type": "markdown",
   "id": "eb115286-9c2d-4062-9d10-63dbb675458a",
   "metadata": {},
   "source": [
    "I define the fitness value of a valid solution to be $value*(1+\\frac{1}{Number of Items})$. A choice with very high value and very few items is worth exploring. An invalid solution has a fitness value of zero."
   ]
  },
  {
   "cell_type": "code",
   "execution_count": 40,
   "id": "9ff4136b-36fa-4081-bd96-49379720fbb9",
   "metadata": {},
   "outputs": [],
   "source": [
    "def fitness(genotype):\n",
    "    return calc_value(genotype) * ifvalid(genotype) * (1+1/np.sum(genotype))"
   ]
  },
  {
   "cell_type": "markdown",
   "id": "9de30c7f-7a22-4bd7-8539-f432736303ac",
   "metadata": {},
   "source": [
    "Let's randomly generate 20 individuals as the first generation."
   ]
  },
  {
   "cell_type": "code",
   "execution_count": 41,
   "id": "28c78951-d2f5-429a-af38-5a5c8158b178",
   "metadata": {},
   "outputs": [],
   "source": [
    "individuals = np.zeros((num_item, 20)).astype(bool)"
   ]
  },
  {
   "cell_type": "code",
   "execution_count": 42,
   "id": "2ef2d2c8-ed45-4834-bb2c-2a05aeb7b913",
   "metadata": {},
   "outputs": [],
   "source": [
    "def search(start):\n",
    "    \"\"\"\n",
    "    Given a genotype vector, try to add as many items into it as possible without exceeding weight limit\n",
    "    \"\"\"\n",
    "    # initial valid choices\n",
    "    current_weight = calc_weight(start) # starting weight\n",
    "    choices = np.logical_and(np.logical_not(start), item_weights <= limit - current_weight) # find all plausible choices\n",
    "    current_choice = start # starting point\n",
    "    while choices.any():\n",
    "        indices = np.where(choices)[0]\n",
    "        newmember = random.choices(indices, weights=item_vwratios[indices], k=1)\n",
    "        current_choice[newmember] = True\n",
    "        current_weight += item_weights[newmember]\n",
    "        choices = np.logical_and(np.logical_not(current_choice), item_weights <= limit - current_weight)\n",
    "    return current_choice"
   ]
  },
  {
   "cell_type": "markdown",
   "id": "7519523a-0c27-4fcc-9c35-1d87fccf000c",
   "metadata": {},
   "source": [
    "Define the mutation function to randomly remove one item from the knapsack and add others into it."
   ]
  },
  {
   "cell_type": "code",
   "execution_count": 43,
   "id": "22e3db88-f562-4191-8b65-8cad78d5500c",
   "metadata": {},
   "outputs": [],
   "source": [
    "def mutation(currentsac):\n",
    "    current_choices = np.where(currentsac)[0]\n",
    "    member_to_remove = random.choice(current_choices)\n",
    "    currentsac[member_to_remove] = False\n",
    "    # then add new items into it\n",
    "    return search(currentsac)"
   ]
  },
  {
   "cell_type": "markdown",
   "id": "6dff6726-12e3-4ed5-b5a6-3f64a66d8e03",
   "metadata": {},
   "source": [
    "Define the recombination function to choose pairs of individuals from the current generation and exchange part of knapsacks to have the next generations. The choices of individuals are weighted based on fitness."
   ]
  },
  {
   "cell_type": "code",
   "execution_count": 44,
   "id": "0145b093-cf4c-4574-b8c4-05dafa16bb96",
   "metadata": {},
   "outputs": [],
   "source": [
    "def recombination(oldgen):\n",
    "    \n",
    "    indv_weights = np.apply_along_axis(fitness, 0, oldgen)\n",
    "    newgen = np.zeros((num_item, 20)).astype(bool)\n",
    "    \n",
    "    for j in range(20):\n",
    "        parents = np.random.choice(np.arange(0, 20), size=2, replace=False, p = indv_weights/sum(indv_weights))\n",
    "        p1 = oldgen[:, parents[0]]\n",
    "        p2 = oldgen[:, parents[1]]\n",
    "        split_position = random.choice(np.arange(0, num_item))\n",
    "        desc1 = np.concatenate((p1[0:split_position], p2[split_position: num_item]), axis=None)\n",
    "        desc2 = np.concatenate((p2[0:split_position], p1[split_position: num_item]), axis=None)\n",
    "        desc_genotypes = [desc1, desc2]\n",
    "        desc_fitness = np.array([fitness(desc1), fitness(desc2)])\n",
    "        chosen_desc = random.choices([0, 1], weights = desc_fitness, k=1)\n",
    "        newgen[:, j] = desc_genotypes[chosen_desc[0]]\n",
    "    \n",
    "    return newgen"
   ]
  },
  {
   "cell_type": "code",
   "execution_count": 45,
   "id": "a31f0ef3-35d3-4b67-8df7-63d58f26fe2c",
   "metadata": {},
   "outputs": [],
   "source": [
    "def gen_summary(gen):\n",
    "    \"\"\"\n",
    "    summarize the values of this generation\n",
    "    \"\"\"\n",
    "    gen_values = np.apply_along_axis(calc_value, 0, gen)\n",
    "    gen_best = gen[:, np.argmax(gen_values)]\n",
    "    gen_best_value = calc_value(gen_best)\n",
    "    gen_mean_value = np.mean(gen_values)\n",
    "    gen_std_value = np.std(gen_values)\n",
    "    return gen_mean_value, gen_best, gen_best_value, gen_std_value"
   ]
  },
  {
   "cell_type": "markdown",
   "id": "3fc558b6-06aa-471c-bbdb-775fc8b322a6",
   "metadata": {},
   "source": [
    "Initiate the 0th generation."
   ]
  },
  {
   "cell_type": "code",
   "execution_count": 46,
   "id": "5f48796d-b8fb-4d44-94f2-d2d5aad9284d",
   "metadata": {},
   "outputs": [],
   "source": [
    "current_gen = np.apply_along_axis(search, 0, individuals)\n",
    "current_gen_mean, current_gen_best, current_gen_best_value, current_gen_std_value = gen_summary(current_gen)\n",
    "temporary_best = current_gen_best\n",
    "temporary_best_value = current_gen_best_value\n",
    "avg_values = np.zeros(43)\n",
    "best_values = np.zeros(43)\n",
    "std_values = np.zeros(43)\n",
    "avg_values[0] = current_gen_mean\n",
    "best_values[0] = current_gen_best_value\n",
    "std_values[0] = current_gen_std_value"
   ]
  },
  {
   "cell_type": "markdown",
   "id": "0c3180fe-604c-4012-a97b-f289e27f62d0",
   "metadata": {},
   "source": [
    "Repeat 20 generations."
   ]
  },
  {
   "cell_type": "code",
   "execution_count": 48,
   "id": "f1af1633-948b-4825-b0da-035fac28381f",
   "metadata": {},
   "outputs": [
    {
     "name": "stdout",
     "output_type": "stream",
     "text": [
      "20 generations of iteration took 0.084 seconds\n"
     ]
    }
   ],
   "source": [
    "import time\n",
    "t0 = time.time()\n",
    "for iteration in range(21):\n",
    "    \n",
    "    next_gen = recombination(current_gen) # use recombination to generate next generation\n",
    "    next_gen_mean, next_gen_best, next_gen_best_value, next_gen_std_value = gen_summary(next_gen)\n",
    "    avg_values[iteration*2+1] = next_gen_mean\n",
    "    best_values[iteration*2+1] = next_gen_best_value\n",
    "    std_values[iteration*2+1] = next_gen_std_value\n",
    "    \n",
    "    if next_gen_best_value > temporary_best_value: # update the best record when needed\n",
    "        temporary_best = next_gen_best\n",
    "        temporary_best_value = next_gen_best_value\n",
    "    \n",
    "    mutate_gen = np.apply_along_axis(mutation, 0, next_gen)\n",
    "    mutate_gen_mean, mutate_gen_best, mutate_gen_best_value, mutate_gen_std_value = gen_summary(mutate_gen)\n",
    "    avg_values[iteration*2+2] = mutate_gen_mean\n",
    "    best_values[iteration*2+2] = mutate_gen_best_value\n",
    "    std_values[iteration*2+2] = mutate_gen_std_value\n",
    "    \n",
    "    if mutate_gen_best_value > temporary_best_value:\n",
    "        temporary_best = mutate_gen_best\n",
    "        temporary_best_value = mutate_gen_best_value\n",
    "    \n",
    "    current_gen = mutate_gen\n",
    "t1 = time.time()\n",
    "print(\"20 generations of iteration took {:.3f} seconds\".format(t1-t0))"
   ]
  },
  {
   "cell_type": "markdown",
   "id": "cb016743-1724-43f2-a4b9-b7b6b0831e2e",
   "metadata": {},
   "source": [
    "Plot the iteration of the average value and the best value."
   ]
  },
  {
   "cell_type": "code",
   "execution_count": 49,
   "id": "3706e6e6-e683-49b5-b75d-4573ef17f6dd",
   "metadata": {},
   "outputs": [
    {
     "data": {
      "image/png": "[encoded data removed]",
      "text/plain": [
       "<Figure size 432x288 with 1 Axes>"
      ]
     },
     "metadata": {
      "needs_background": "light"
     },
     "output_type": "display_data"
    }
   ],
   "source": [
    "import matplotlib.pyplot as plt\n",
    "plt.plot(np.arange(0, 43), best_values, 'o-.' ,label = \"Best\")\n",
    "plt.errorbar(np.arange(0, 43), avg_values, yerr=std_values, fmt = 'o--', label = \"Average\")\n",
    "plt.legend(loc='lower right')\n",
    "plt.xlabel(\"Iteration\")\n",
    "plt.ylabel(\"KnapSack Value\")\n",
    "plt.show()"
   ]
  },
  {
   "cell_type": "markdown",
   "id": "8f8ee08f-7e32-4086-9118-91337a4ea7aa",
   "metadata": {},
   "source": [
    "Check the optimal solution."
   ]
  },
  {
   "cell_type": "code",
   "execution_count": 50,
   "id": "097c647a-d88d-4487-b6aa-99393aefd7f3",
   "metadata": {},
   "outputs": [
    {
     "name": "stdout",
     "output_type": "stream",
     "text": [
      "The highest value is 1109\n"
     ]
    }
   ],
   "source": [
    "print(\"The highest value is {}\".format(temporary_best_value))"
   ]
  },
  {
   "cell_type": "code",
   "execution_count": 51,
   "id": "9887b778-50a3-4840-9637-6d62c86b57b4",
   "metadata": {},
   "outputs": [
    {
     "name": "stdout",
     "output_type": "stream",
     "text": [
      "The total weight for the best knapsack is 200\n"
     ]
    }
   ],
   "source": [
    "print(\"The total weight for the best knapsack is {}\".format(calc_weight(temporary_best)))"
   ]
  },
  {
   "cell_type": "code",
   "execution_count": 52,
   "id": "f6357f60-0951-4ade-aaba-bda487dcadb1",
   "metadata": {},
   "outputs": [
    {
     "name": "stdout",
     "output_type": "stream",
     "text": [
      "The total number of items in the best knapsack is 15\n"
     ]
    }
   ],
   "source": [
    "print(\"The total number of items in the best knapsack is {}\".format(np.sum(temporary_best)))"
   ]
  },
  {
   "cell_type": "markdown",
   "id": "3090a5da-ecd6-4b74-8180-6a17d665ddbe",
   "metadata": {},
   "source": [
    "Check out the item weights and values."
   ]
  },
  {
   "cell_type": "code",
   "execution_count": 53,
   "id": "2a739e26-088a-48a7-b6e2-70a77563b370",
   "metadata": {},
   "outputs": [
    {
     "name": "stdout",
     "output_type": "stream",
     "text": [
      "Item 72 has a value of 86 and weight of 16\n",
      "Item 105 has a value of 75 and weight of 12\n",
      "Item 222 has a value of 39 and weight of 11\n",
      "Item 344 has a value of 92 and weight of 13\n",
      "Item 400 has a value of 79 and weight of 10\n",
      "Item 571 has a value of 69 and weight of 26\n",
      "Item 599 has a value of 85 and weight of 15\n",
      "Item 604 has a value of 91 and weight of 18\n",
      "Item 679 has a value of 30 and weight of 10\n",
      "Item 826 has a value of 87 and weight of 10\n",
      "Item 854 has a value of 85 and weight of 12\n",
      "Item 862 has a value of 80 and weight of 12\n",
      "Item 877 has a value of 99 and weight of 11\n",
      "Item 893 has a value of 29 and weight of 10\n",
      "Item 923 has a value of 83 and weight of 14\n"
     ]
    }
   ],
   "source": [
    "itemids = np.where(temporary_best)[0]\n",
    "for item in itemids:\n",
    "    w = item_weights[item]\n",
    "    v = item_values[item]\n",
    "    print(\"Item {} has a value of {} and weight of {}\".format(item, v, w))"
   ]
  }
 ],
 "metadata": {
  "kernelspec": {
   "display_name": "Python 3 (ipykernel)",
   "language": "python",
   "name": "python3"
  },
  "language_info": {
   "codemirror_mode": {
    "name": "ipython",
    "version": 3
   },
   "file_extension": ".py",
   "mimetype": "text/x-python",
   "name": "python",
   "nbconvert_exporter": "python",
   "pygments_lexer": "ipython3",
   "version": "3.8.10"
  }
 },
 "nbformat": 4,
 "nbformat_minor": 5
}
