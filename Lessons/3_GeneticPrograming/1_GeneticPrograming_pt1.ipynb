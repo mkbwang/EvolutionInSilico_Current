{
 "cells": [
  {
   "cell_type": "markdown",
   "metadata": {},
   "source": [
    "# Genetic Programing 1: Building A Representation"
   ]
  },
  {
   "cell_type": "markdown",
   "metadata": {},
   "source": [
    "### We'll be using the basic expression-tree representation we've talked about so far. \n",
    "\n",
    "To make life a bit easier on our future selves, we'll be doing this with Python classes and inheritance. Don't worry if that means absolutely nothing to you, hopefully it will make more sense when we see it in action."
   ]
  },
  {
   "cell_type": "markdown",
   "metadata": {},
   "source": [
    "## First, we need to build a \"Universal\" class for a node in our expression tree. \n",
    "\n",
    "This is basically wrapping up what we except to be the same for every possible node in our genetic program representation. "
   ]
  },
  {
   "cell_type": "code",
   "execution_count": 1,
   "metadata": {
    "tags": []
   },
   "outputs": [],
   "source": [
    "import numpy as np\n",
    "from matplotlib import pyplot\n",
    "import random\n",
    "\n",
    "class GPNode:\n",
    "    def __init__(self, node_type=None):\n",
    "        self.parent = None\n",
    "        self.node_type = node_type\n",
    "        self.children = []\n",
    "        self.depth = 0\n",
    "        \n",
    "    # let's put some of the work on keeping track of\n",
    "    # relationships into this function, so we don't have\n",
    "    # to keep updating references ourselves. \n",
    "    def add_child(self, child_node):\n",
    "        child_node.depth = self.depth+1\n",
    "        self.children.append(child_node)\n",
    "        child_node.parent = self\n"
   ]
  },
  {
   "cell_type": "markdown",
   "metadata": {},
   "source": [
    "## Now we can add our first \"real\" node class, a Const node -- something that holds a numerical value\n",
    "\n",
    "### We'll add a few additional function calls here:\n",
    "#### evaluate - \n",
    "This will take an input state (more on that later) and return the value this node evaluates to. For the Const nodes, that is just the value they've been assigned. \n",
    "#### pretty_print - \n",
    "This prints the node along with a number of indentions and its depth\n",
    "#### deepcopy - \n",
    "This function creates a new instance of the Const node when called. This is a quark of the default behavior in Python of passing objects as references, so we want to make sure when we create new copies of nodes they're actually new copies and not just new \"references\" to the original. "
   ]
  },
  {
   "cell_type": "code",
   "execution_count": 2,
   "metadata": {
    "tags": []
   },
   "outputs": [],
   "source": [
    "class GPConstNode(GPNode):\n",
    "    def __init__(self, value=None):\n",
    "        super().__init__(node_type=\"Const\")\n",
    "        self.const_value = value\n",
    "    \n",
    "    def evaluate(self, input_state):\n",
    "        return self.const_value\n",
    "        \n",
    "    def pretty_print(self, indents=0):\n",
    "        print('  '*indents + str(self.const_value) \n",
    "              + ' : ' + str(self.depth))\n",
    "        \n",
    "    def deepcopy(self):\n",
    "        new_node = GPConstNode(value=self.const_value)\n",
    "        new_node.depth = self.depth;\n",
    "        return new_node\n",
    "        "
   ]
  },
  {
   "cell_type": "code",
   "execution_count": 3,
   "metadata": {},
   "outputs": [
    {
     "name": "stdout",
     "output_type": "stream",
     "text": [
      "42 : 0\n"
     ]
    }
   ],
   "source": [
    "#Make a node and print it out...\n",
    "const_node = GPConstNode(42)\n",
    "const_node.pretty_print()"
   ]
  },
  {
   "cell_type": "markdown",
   "metadata": {},
   "source": [
    "## Evaluate expects some state (in the form of a dictionary), more on this in a second. But, for now we can just give it something"
   ]
  },
  {
   "cell_type": "code",
   "execution_count": 4,
   "metadata": {},
   "outputs": [
    {
     "ename": "TypeError",
     "evalue": "evaluate() missing 1 required positional argument: 'input_state'",
     "output_type": "error",
     "traceback": [
      "\u001b[0;31m---------------------------------------------------------------------------\u001b[0m",
      "\u001b[0;31mTypeError\u001b[0m                                 Traceback (most recent call last)",
      "Input \u001b[0;32mIn [4]\u001b[0m, in \u001b[0;36m<module>\u001b[0;34m\u001b[0m\n\u001b[0;32m----> 1\u001b[0m \u001b[43mconst_node\u001b[49m\u001b[38;5;241;43m.\u001b[39;49m\u001b[43mevaluate\u001b[49m\u001b[43m(\u001b[49m\u001b[43m)\u001b[49m\n",
      "\u001b[0;31mTypeError\u001b[0m: evaluate() missing 1 required positional argument: 'input_state'"
     ]
    }
   ],
   "source": [
    "const_node.evaluate()"
   ]
  },
  {
   "cell_type": "code",
   "execution_count": 5,
   "metadata": {},
   "outputs": [
    {
     "data": {
      "text/plain": [
       "42"
      ]
     },
     "execution_count": 5,
     "metadata": {},
     "output_type": "execute_result"
    }
   ],
   "source": [
    "# give evaluate a \"dummy\" state\n",
    "const_node.evaluate({'blah'})"
   ]
  },
  {
   "cell_type": "markdown",
   "metadata": {},
   "source": [
    "### Just a quick little demonstration about why deepcopy is needed!"
   ]
  },
  {
   "cell_type": "code",
   "execution_count": 6,
   "metadata": {},
   "outputs": [
    {
     "name": "stdout",
     "output_type": "stream",
     "text": [
      "hah : 0\n"
     ]
    }
   ],
   "source": [
    "const_node = GPConstNode(42)\n",
    "new_node = const_node\n",
    "\n",
    "new_node.const_value = \"hah\"\n",
    "const_node.pretty_print()\n"
   ]
  },
  {
   "cell_type": "markdown",
   "metadata": {},
   "source": [
    "### Our const_node's value was overwritten!! \n",
    "\n",
    "Let's try the same thing with a deepcopy."
   ]
  },
  {
   "cell_type": "code",
   "execution_count": 7,
   "metadata": {},
   "outputs": [
    {
     "name": "stdout",
     "output_type": "stream",
     "text": [
      "42 : 0\n"
     ]
    }
   ],
   "source": [
    "const_node = GPConstNode(42)\n",
    "new_node = const_node.deepcopy()\n",
    "\n",
    "new_node.const_value = \"hah\"\n",
    "const_node.pretty_print()"
   ]
  },
  {
   "cell_type": "markdown",
   "metadata": {},
   "source": [
    "## Now that we have constant nodes, let's make a variable node class.\n",
    "### Variable nodes are like our example in class, 'x', that can take on a value independent of the expression tree. \n",
    "This code should look mostly the same, where the only difference here is that the node gets a variable_name property, and that the evaluate function uses the input_state dictionary to pull out the value that should be assigned to the variable in this node. \n",
    "### An example: \n",
    "Let's say we have a variable node with variable_name = 'x'\n",
    "\n",
    "When we evaluate this node, it's expecting a dictionary with an entry for 'x', e.g., {'x':42}.\n",
    "\n",
    "The node will then evaluate to whatever 'x' is in the input_state dictionary. \n"
   ]
  },
  {
   "cell_type": "code",
   "execution_count": 8,
   "metadata": {
    "tags": []
   },
   "outputs": [],
   "source": [
    "class GPVariableNode(GPNode):\n",
    "    def __init__(self, variable_name=None):\n",
    "        super().__init__(node_type=\"Variable\")\n",
    "        self.variable_name = variable_name\n",
    "    \n",
    "    def evaluate(self, input_state):\n",
    "        return input_state[self.variable_name]\n",
    "    \n",
    "    def pretty_print(self, indents=0):\n",
    "        print('  '*indents + str(self.variable_name)\n",
    "              + ' : ' + str(self.depth))\n",
    "        \n",
    "    def deepcopy(self):\n",
    "        new_node = GPVariableNode(variable_name = self.variable_name)\n",
    "        new_node.depth = self.depth\n",
    "        return new_node"
   ]
  },
  {
   "cell_type": "markdown",
   "metadata": {},
   "source": [
    "### Let's run through the example with a real variable node!"
   ]
  },
  {
   "cell_type": "code",
   "execution_count": 9,
   "metadata": {},
   "outputs": [
    {
     "name": "stdout",
     "output_type": "stream",
     "text": [
      "x : 0\n"
     ]
    }
   ],
   "source": [
    "var_node = GPVariableNode(variable_name='x')\n",
    "var_node.pretty_print()"
   ]
  },
  {
   "cell_type": "code",
   "execution_count": 10,
   "metadata": {},
   "outputs": [
    {
     "data": {
      "text/plain": [
       "42"
      ]
     },
     "execution_count": 10,
     "metadata": {},
     "output_type": "execute_result"
    }
   ],
   "source": [
    "var_node.evaluate({'x':42})"
   ]
  },
  {
   "cell_type": "markdown",
   "metadata": {},
   "source": [
    "#### It doesn't matter what else is in this input_state dictionary, so long as there is a value for 'x' in this case."
   ]
  },
  {
   "cell_type": "code",
   "execution_count": 11,
   "metadata": {},
   "outputs": [
    {
     "data": {
      "text/plain": [
       "42"
      ]
     },
     "execution_count": 11,
     "metadata": {},
     "output_type": "execute_result"
    }
   ],
   "source": [
    "var_node.evaluate({'x':42, 'y':128})"
   ]
  },
  {
   "cell_type": "markdown",
   "metadata": {},
   "source": [
    "### Nodes (and indeed whole trees) can be evaluated over a range of values. For example, if we were trying to evolve a function that behaved in a particular way -- say sin(x) -- we would need to compare the output of the genetic program over a range of x values to the target function. "
   ]
  },
  {
   "cell_type": "code",
   "execution_count": 11,
   "metadata": {},
   "outputs": [
    {
     "data": {
      "image/png": "[encoded data removed]",
      "text/plain": [
       "<Figure size 432x288 with 1 Axes>"
      ]
     },
     "metadata": {
      "needs_background": "light"
     },
     "output_type": "display_data"
    }
   ],
   "source": [
    "values = [var_node.evaluate({'x':x_val}) for x_val in range(100)]\n",
    "pyplot.plot(values)\n",
    "pyplot.show()"
   ]
  },
  {
   "cell_type": "markdown",
   "metadata": {},
   "source": [
    "# Now to the fun(ction) nodes!\n",
    "Function nodes are any node that require **parameters** to be evaluated. \n",
    "### We've been drawing these parameters as children nodes connected to the function node. This is the same way we'll be representing these in the code. \n",
    "Each function node has an associated number of arguments it should take (number of children nodes it should have). Remember, we added the code to handle parent/child relationships in our base GPNode class. \n",
    "\n",
    "Because the function nodes now depend on the value of their children, we must evaluate each child node before we can evaluate the function node. This processes of going through and calculating the result for children before we can calculate our own value is generally called **recursion**. \n",
    "\n",
    "We also use this process of recursion to pretty_print both this node and it's children. Note that the easiest way to spot recursion is when a function (e.g., evaluate()) is called within the body of its own code. "
   ]
  },
  {
   "cell_type": "code",
   "execution_count": 12,
   "metadata": {
    "tags": []
   },
   "outputs": [],
   "source": [
    "class GPFunctionNode(GPNode):\n",
    "    def __init__(self, arg_count, func_name=None, gp_function=None):\n",
    "        super().__init__(node_type=\"Function\")\n",
    "        self.argument_count = arg_count\n",
    "        self.gp_function = gp_function\n",
    "        self.function_name = func_name\n",
    "        \n",
    "    def evaluate(self, input_state): \n",
    "        assert self.argument_count == len(self.children), \\\n",
    "        'Number of child nodes must match argument count'\n",
    "\n",
    "        child_results = [c.evaluate(input_state) for c in self.children]\n",
    "        return self.gp_function(*child_results)\n",
    "\n",
    "    def pretty_print(self, indents=0):\n",
    "        print('  '*indents + str(self.function_name) \n",
    "              + ' : ' + str(self.depth))\n",
    "        \n",
    "        for child in self.children:\n",
    "            child.pretty_print(indents+1)\n",
    "        \n",
    "    def deepcopy(self):\n",
    "        new_node = GPFunctionNode(self.argument_count, \n",
    "                                   self.function_name, \n",
    "                                   self.gp_function)\n",
    "        new_node.depth = self.depth\n",
    "        \n",
    "        for child in self.children:\n",
    "            new_node.add_child(child.deepcopy())\n",
    "        \n",
    "        return new_node"
   ]
  },
  {
   "cell_type": "markdown",
   "metadata": {},
   "source": [
    "## Now lets see what an actual function node might look like. \n",
    "We can start easy and define the \"+\" operator."
   ]
  },
  {
   "cell_type": "code",
   "execution_count": 13,
   "metadata": {},
   "outputs": [
    {
     "name": "stdout",
     "output_type": "stream",
     "text": [
      "Add : 0\n"
     ]
    }
   ],
   "source": [
    "# we'll need some terminal nodes to add together! \n",
    "var_node = GPVariableNode(variable_name='x')\n",
    "const_node = GPConstNode(0.2)\n",
    "\n",
    "# We can define a \"gp_add\" function to pass into our function node\n",
    "def gp_add(x,y):\n",
    "    return x+y\n",
    "\n",
    "func_node = GPFunctionNode(arg_count=2, func_name=\"Add\", gp_function=gp_add)\n",
    "\n",
    "# But for these simple functions, lambdas are useful. They are unnamed\n",
    "# functions defined inline like so:\n",
    "func_node = GPFunctionNode(arg_count=2, func_name=\"Add\", gp_function=lambda x, y: x+y)\n",
    "\n",
    "func_node.pretty_print()"
   ]
  },
  {
   "cell_type": "markdown",
   "metadata": {},
   "source": [
    "### Our function node doesn't have any children yet! \n",
    "That's because we didn't tell the node to use the two terminal nodes we created as arguments to the add function. We'll have to add them as children to do that. "
   ]
  },
  {
   "cell_type": "code",
   "execution_count": 14,
   "metadata": {},
   "outputs": [
    {
     "name": "stdout",
     "output_type": "stream",
     "text": [
      "Add : 0\n",
      "  x : 1\n",
      "  0.2 : 1\n"
     ]
    }
   ],
   "source": [
    "func_node.add_child(var_node)\n",
    "func_node.add_child(const_node)\n",
    "func_node.pretty_print()"
   ]
  },
  {
   "cell_type": "code",
   "execution_count": 15,
   "metadata": {},
   "outputs": [
    {
     "ename": "TypeError",
     "evalue": "evaluate() missing 1 required positional argument: 'input_state'",
     "output_type": "error",
     "traceback": [
      "\u001b[0;31m---------------------------------------------------------------------------\u001b[0m",
      "\u001b[0;31mTypeError\u001b[0m                                 Traceback (most recent call last)",
      "Input \u001b[0;32mIn [15]\u001b[0m, in \u001b[0;36m<module>\u001b[0;34m\u001b[0m\n\u001b[0;32m----> 1\u001b[0m \u001b[43mfunc_node\u001b[49m\u001b[38;5;241;43m.\u001b[39;49m\u001b[43mevaluate\u001b[49m\u001b[43m(\u001b[49m\u001b[43m)\u001b[49m\n",
      "\u001b[0;31mTypeError\u001b[0m: evaluate() missing 1 required positional argument: 'input_state'"
     ]
    }
   ],
   "source": [
    "func_node.evaluate()"
   ]
  },
  {
   "cell_type": "markdown",
   "metadata": {},
   "source": [
    "### Whoops, don't forget that input_state dictionary!"
   ]
  },
  {
   "cell_type": "code",
   "execution_count": 16,
   "metadata": {},
   "outputs": [
    {
     "data": {
      "text/plain": [
       "12.2"
      ]
     },
     "execution_count": 16,
     "metadata": {},
     "output_type": "execute_result"
    }
   ],
   "source": [
    "func_node.evaluate({'x':12})"
   ]
  },
  {
   "cell_type": "markdown",
   "metadata": {},
   "source": [
    "\n",
    "\n",
    "\n",
    "# 1. Your turn!\n",
    "### Add the required function nodes and terminal nodes to construct and evaluate the following expressions:\n",
    "(**Note**: You should *actually* evaluate them using a few values of x)\n",
    "- $x^2$\n",
    "- $max(x, 2.2)$\n",
    "- $1+x*7$\n",
    "- $12\\over{x}$\n"
   ]
  },
  {
   "cell_type": "code",
   "execution_count": null,
   "metadata": {
    "collapsed": true,
    "jupyter": {
     "outputs_hidden": true
    }
   },
   "outputs": [],
   "source": []
  },
  {
   "cell_type": "markdown",
   "metadata": {},
   "source": [
    "# 2. With the set of function nodes and terminal nodes you've just created, try writing code to generate some random program trees. \n",
    "This is a great way of debugging your representation to ensure you've satisfied the **closure** requirement, by the way!"
   ]
  },
  {
   "cell_type": "code",
   "execution_count": null,
   "metadata": {
    "collapsed": true,
    "jupyter": {
     "outputs_hidden": true
    }
   },
   "outputs": [],
   "source": []
  },
  {
   "cell_type": "markdown",
   "metadata": {},
   "source": [
    "# 3. If that was too easy, try adding these advanced function nodes:\n",
    "\n",
    "- if(conditional_expression, true_expression, false_expression)\n",
    "- \"Automatically Defined Storage\" Nodes -- These create new variables that can be used as terminal nodes based on the evaluation of a subtree."
   ]
  },
  {
   "cell_type": "code",
   "execution_count": null,
   "metadata": {
    "collapsed": true,
    "jupyter": {
     "outputs_hidden": true
    }
   },
   "outputs": [],
   "source": []
  }
 ],
 "metadata": {
  "kernelspec": {
   "display_name": "Python 3 (ipykernel)",
   "language": "python",
   "name": "python3"
  },
  "language_info": {
   "codemirror_mode": {
    "name": "ipython",
    "version": 3
   },
   "file_extension": ".py",
   "mimetype": "text/x-python",
   "name": "python",
   "nbconvert_exporter": "python",
   "pygments_lexer": "ipython3",
   "version": "3.8.10"
  }
 },
 "nbformat": 4,
 "nbformat_minor": 4
}
