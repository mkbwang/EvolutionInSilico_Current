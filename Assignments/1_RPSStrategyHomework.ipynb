{
 "cells": [
  {
   "cell_type": "markdown",
   "metadata": {},
   "source": [
    "# First Homework!\n",
    "### In your groups, develop a strategy to play Rock Paper Scissors (RPS) in an iterative arena. Your strategy will be competing against other groups' contributions, as well as some of my own! \n",
    "\n",
    "### You can assume that there will be several copies of your strategy in the population at any given time. Also, the number of iterations played will range between 20 and 200. \n",
    "\n",
    "\n",
    "I've provided the framework you'll need to develop and test your strategy. Let's walk through the details of it here:"
   ]
  },
  {
   "cell_type": "markdown",
   "metadata": {},
   "source": [
    "## Here we have a strategy that always plays Rock\n",
    "If you need a quick refresher about how classes work in Python, check out the lesson in our class github repository [here](https://github.com/zamanlh/EvolutionInSilico_Current/blob/master/Lessons/0_PythonIntro/07_Classes.ipynb). \n",
    "\n",
    "### We'll keep track of a few things in a RPS strategy object (this is what we call an instance of a class in Object-Oriented Programing -- which is also just a fancy way of saying when we program using objects).\n",
    "\n",
    "The self that you see all over the place is just a way of telling python that each instance of the RockOnly class will have variables that it owns and that are unique to that individual object. You can see this particularly well in the `__init__` function. The underscores means this is a private function that you can't call yourself, but is used internally. In this case, `init` is used when a new object of this type is created. \n",
    "\n",
    "We'll keep track of the set of moves an individual can play, here it is just `['R', 'P', 'S']` since we're limiting ourselves to the classic Rock Paper Scissors game. We'll also store the throws this individual has made (`self.my_history`), as well as the throws its competitor made in case we want to use those to pick the next throw in the future (`self.partner_history`). And finally, we'll also record the fitness of the individual.\n",
    "\n",
    "There are a few helper functions here as well like `reset` which just clears out the organisms memory and fitness so we can start a new competition, and `reproduce` that returns a new instance of the strategy so we can easily population the world with winning strategies. \n",
    "\n",
    "### But the main part, and the bit you'll mostly be changing, is the `play` function!\n",
    "Here we're simply always throwing the 'R' move, which is then appended to the history variable to keep track of this individual's past moves. \n",
    "\n",
    "The `play` function can be as complex as you like, and remember that you'll be compeiting with other groups' strategies, as well as your own strategy!"
   ]
  },
  {
   "cell_type": "code",
   "execution_count": 1,
   "metadata": {},
   "outputs": [],
   "source": [
    "import numpy as np\n",
    "\n",
    "class RockOnly:\n",
    "    def __init__(self):\n",
    "        self.name = \"Rock Thrower\"\n",
    "        self.moves = ['R', 'P', 'S']\n",
    "        self.my_history = []\n",
    "        self.partner_history = []\n",
    "        self.fitness = 0\n",
    "        \n",
    "    def __repr__(self):\n",
    "        return self.name\n",
    "    \n",
    "    def reset(self):\n",
    "        self.my_history = []\n",
    "        self.partner_history = []\n",
    "        self.fitness = 0\n",
    "        \n",
    "    def play(self):\n",
    "        my_move = 'R'\n",
    "        self.my_history.append(my_move)\n",
    "        return(my_move)\n",
    "        \n",
    "    def update_partner_history(self, their_move):\n",
    "        self.partner_history.append(their_move)\n",
    "    \n",
    "    def replicate(self):\n",
    "        offspring = type(self)()\n",
    "        return(offspring)\n"
   ]
  },
  {
   "cell_type": "markdown",
   "metadata": {},
   "source": [
    "## Just to illustrate the competition arena, I'll make `PaperOnly` and `ScissorsOnly` strategies as well."
   ]
  },
  {
   "cell_type": "code",
   "execution_count": 2,
   "metadata": {},
   "outputs": [],
   "source": [
    "\n",
    "class PaperOnly:\n",
    "    def __init__(self):\n",
    "        self.name = \"Paper Thrower\"\n",
    "        self.moves = ['R', 'P', 'S']\n",
    "        self.my_history = []\n",
    "        self.partner_history = []\n",
    "        self.fitness = 0\n",
    "    \n",
    "    def __repr__(self):\n",
    "        return self.name\n",
    "    \n",
    "    def reset(self):\n",
    "        self.my_history = []\n",
    "        self.partner_history = []\n",
    "        self.fitness = 0\n",
    "        \n",
    "    def play(self):\n",
    "        my_move = 'P'\n",
    "        self.my_history.append(my_move)\n",
    "        return(my_move)\n",
    "        \n",
    "    def update_partner_history(self, their_move):\n",
    "        self.partner_history.append(their_move)\n",
    "    \n",
    "    def replicate(self):\n",
    "        offspring = type(self)()\n",
    "        return(offspring)\n",
    "\n",
    "class ScissorsOnly:\n",
    "    def __init__(self):\n",
    "        self.name = \"Scissors Thrower\"\n",
    "        self.moves = ['R', 'P', 'S']\n",
    "        self.my_history = []\n",
    "        self.partner_history = []\n",
    "        self.fitness = 0\n",
    "        \n",
    "    def __repr__(self):\n",
    "        return self.name\n",
    "    \n",
    "    def reset(self):\n",
    "        self.my_history = []\n",
    "        self.partner_history = []\n",
    "        self.fitness = 0\n",
    "        \n",
    "    def play(self):\n",
    "        my_move = 'S'\n",
    "        self.my_history.append(my_move)\n",
    "        return(my_move)\n",
    "        \n",
    "    def update_partner_history(self, their_move):\n",
    "        self.partner_history.append(their_move)\n",
    "    \n",
    "    def replicate(self):\n",
    "        offspring = type(self)()\n",
    "        return(offspring)"
   ]
  },
  {
   "cell_type": "markdown",
   "metadata": {},
   "source": [
    "# Here is the code for the RPS Arena! \n",
    "### You shouldn't have to change any of this, but you should use it to design and test your strategies!\n",
    "Essentially, all this is doing is creating a population of different strategies that are provided, and competing every individual in the population against every other individual, and then choosing which individuals replicate proportional to their payoffs. \n",
    "\n",
    "\n",
    "I'll add a few comments within the code to help make sense of what this is doing."
   ]
  },
  {
   "cell_type": "code",
   "execution_count": 3,
   "metadata": {},
   "outputs": [],
   "source": [
    "from collections import Counter\n",
    "import random \n",
    "\n",
    "class RPSPopulation:\n",
    "    def __init__(self, population_size = 100):\n",
    "        #This is the RPS payoff matrix we worked out in class.\n",
    "        #I've made it as dictionary so I can quickly lookup\n",
    "        #rewards for a given pair of throws.\n",
    "        self.payoffs = {('R','R'):0, \n",
    "                        ('R','P'):-1, \n",
    "                        ('R','S'):1, \n",
    "                        ('P','R'):1, \n",
    "                        ('P','P'):0, \n",
    "                        ('P','S'):-1, \n",
    "                        ('S','R'):-1, \n",
    "                        ('S','P'):1, \n",
    "                        ('S','S'):0 }\n",
    "        \n",
    "        self.population = []\n",
    "        self.pop_size = population_size\n",
    "        self.strategies = []\n",
    "        \n",
    "    #This returns a dictionary of \"Strategy Name\": Count in the population\n",
    "    def get_strategy_counts(self):\n",
    "        return Counter([ind.name for ind in self.population])\n",
    "    \n",
    "    #This adds a strategy to the pool used to populate the arena\n",
    "    def add_strategy(self, strategy):\n",
    "        self.strategies.append(strategy)\n",
    "    \n",
    "    #Randomly pick a strategy to fill each spot in the population\n",
    "    def randomly_populate(self):\n",
    "        for i in range(self.pop_size):\n",
    "            random_strategy = random.choice(self.strategies)\n",
    "            new_individual = random_strategy()\n",
    "            self.population.append(new_individual)\n",
    "    \n",
    "    #Compete a pair of individuals for num_iterations\n",
    "    def compete(self, player1, player2, num_iterations):\n",
    "        for i in range(num_iterations):\n",
    "            #Get what each player throws\n",
    "            throw_1 = player1.play()\n",
    "            throw_2 = player2.play()\n",
    "            \n",
    "            #Record the other players throw in their records\n",
    "            player1.update_partner_history(throw_2)\n",
    "            player2.update_partner_history(throw_1)\n",
    "            \n",
    "            #Get the payoffs from the payoff matrix for each player\n",
    "            player1_payoff = self.payoffs[(throw_1, throw_2)]\n",
    "            player2_payoff = self.payoffs[(throw_2, throw_1)]\n",
    "            \n",
    "            #And Update their fitness\n",
    "            player1.fitness += player1_payoff\n",
    "            player2.fitness += player2_payoff\n",
    "        \n",
    "    #Compete all pairs of individuals, noting that we don't need to repeat\n",
    "    #competitions since A v B is the same as B v A (we've updated both players).\n",
    "    def evaluate_population(self, num_iterations):\n",
    "        for i in range(self.pop_size-1):\n",
    "            for j in range(i+1, self.pop_size):\n",
    "                self.compete(self.population[i], self.population[j], num_iterations)        \n",
    "    \n",
    "    #Step forward a num_generations of competitions, updating the population\n",
    "    #each generation.\n",
    "    def step(self, num_iterations, num_generations=1):\n",
    "        for gen in range(num_generations):\n",
    "            #do the competition\n",
    "            self.evaluate_population(num_iterations)\n",
    "            pop_fitness = [p.fitness for p in self.population]\n",
    "            \n",
    "            #If we end up with all ties, we'll divide by 0 and that causes problems\n",
    "            if max(pop_fitness) == min(pop_fitness):\n",
    "                norm_fitness = [1 for ind in pop_fitness]\n",
    "            else:\n",
    "                #Lets rescale values to be positive to avoid weirdness with negative\n",
    "                #weights in random.choices\n",
    "                norm_fitness = [1 + \n",
    "                                (f - min(pop_fitness))/(max(pop_fitness)-min(pop_fitness)) \n",
    "                                for f in pop_fitness]\n",
    "            \n",
    "            #Do the sampling to pick the next population\n",
    "            next_pop = random.choices(self.population, weights=norm_fitness, k=self.pop_size)\n",
    "            \n",
    "            #Replace each individual we picked with an offspring so we don't end up with\n",
    "            #weird duplicates of the same object. This is a quark of Python, and just means\n",
    "            #we're creating a new object for each new individual in the population instead of\n",
    "            #creating a reference to the *same* old object. \n",
    "            for i in range(len(next_pop)):\n",
    "                next_pop[i] = next_pop[i].replicate()\n",
    "            self.population = next_pop\n",
    "            \n",
    "        #Finally, return the book keeping numbers\n",
    "        return(self.get_strategy_counts())\n",
    "                "
   ]
  },
  {
   "cell_type": "markdown",
   "metadata": {},
   "source": [
    "## Continuing with the demonstration, let's create an Arena with 200 individuals playing either the RockOnly, PaperOnly, or ScissorsOnly strategies."
   ]
  },
  {
   "cell_type": "code",
   "execution_count": 4,
   "metadata": {},
   "outputs": [],
   "source": [
    "pop = RPSPopulation(population_size=200)\n",
    "\n",
    "pop.add_strategy(RockOnly)\n",
    "pop.add_strategy(PaperOnly)\n",
    "pop.add_strategy(ScissorsOnly)\n",
    "\n",
    "pop.randomly_populate()"
   ]
  },
  {
   "cell_type": "markdown",
   "metadata": {},
   "source": [
    "### We can see a messy print out of the randomly generated population."
   ]
  },
  {
   "cell_type": "code",
   "execution_count": 5,
   "metadata": {
    "scrolled": true
   },
   "outputs": [
    {
     "name": "stdout",
     "output_type": "stream",
     "text": [
      "[Scissors Thrower, Rock Thrower, Paper Thrower, Paper Thrower, Rock Thrower, Paper Thrower, Paper Thrower, Scissors Thrower, Scissors Thrower, Scissors Thrower, Scissors Thrower, Rock Thrower, Rock Thrower, Paper Thrower, Rock Thrower, Rock Thrower, Scissors Thrower, Rock Thrower, Paper Thrower, Scissors Thrower, Rock Thrower, Paper Thrower, Paper Thrower, Scissors Thrower, Paper Thrower, Paper Thrower, Rock Thrower, Paper Thrower, Paper Thrower, Rock Thrower, Scissors Thrower, Paper Thrower, Rock Thrower, Rock Thrower, Paper Thrower, Scissors Thrower, Rock Thrower, Rock Thrower, Scissors Thrower, Scissors Thrower, Paper Thrower, Rock Thrower, Paper Thrower, Paper Thrower, Scissors Thrower, Scissors Thrower, Paper Thrower, Paper Thrower, Rock Thrower, Scissors Thrower, Paper Thrower, Scissors Thrower, Scissors Thrower, Paper Thrower, Rock Thrower, Scissors Thrower, Scissors Thrower, Paper Thrower, Paper Thrower, Scissors Thrower, Paper Thrower, Scissors Thrower, Paper Thrower, Scissors Thrower, Paper Thrower, Paper Thrower, Paper Thrower, Paper Thrower, Paper Thrower, Scissors Thrower, Rock Thrower, Rock Thrower, Scissors Thrower, Scissors Thrower, Scissors Thrower, Scissors Thrower, Scissors Thrower, Rock Thrower, Rock Thrower, Scissors Thrower, Scissors Thrower, Paper Thrower, Paper Thrower, Rock Thrower, Rock Thrower, Paper Thrower, Scissors Thrower, Scissors Thrower, Rock Thrower, Rock Thrower, Rock Thrower, Paper Thrower, Rock Thrower, Scissors Thrower, Rock Thrower, Paper Thrower, Paper Thrower, Scissors Thrower, Scissors Thrower, Paper Thrower, Rock Thrower, Scissors Thrower, Rock Thrower, Paper Thrower, Scissors Thrower, Paper Thrower, Paper Thrower, Rock Thrower, Scissors Thrower, Paper Thrower, Rock Thrower, Scissors Thrower, Paper Thrower, Rock Thrower, Paper Thrower, Paper Thrower, Rock Thrower, Scissors Thrower, Scissors Thrower, Paper Thrower, Scissors Thrower, Rock Thrower, Scissors Thrower, Rock Thrower, Scissors Thrower, Paper Thrower, Rock Thrower, Rock Thrower, Rock Thrower, Scissors Thrower, Paper Thrower, Scissors Thrower, Rock Thrower, Paper Thrower, Scissors Thrower, Scissors Thrower, Scissors Thrower, Paper Thrower, Scissors Thrower, Paper Thrower, Paper Thrower, Rock Thrower, Rock Thrower, Paper Thrower, Scissors Thrower, Scissors Thrower, Paper Thrower, Rock Thrower, Paper Thrower, Scissors Thrower, Paper Thrower, Paper Thrower, Scissors Thrower, Paper Thrower, Scissors Thrower, Paper Thrower, Rock Thrower, Rock Thrower, Paper Thrower, Paper Thrower, Paper Thrower, Rock Thrower, Scissors Thrower, Rock Thrower, Rock Thrower, Rock Thrower, Rock Thrower, Paper Thrower, Rock Thrower, Rock Thrower, Scissors Thrower, Scissors Thrower, Paper Thrower, Paper Thrower, Scissors Thrower, Paper Thrower, Paper Thrower, Scissors Thrower, Rock Thrower, Paper Thrower, Rock Thrower, Paper Thrower, Rock Thrower, Paper Thrower, Rock Thrower, Scissors Thrower, Paper Thrower, Rock Thrower, Rock Thrower, Scissors Thrower, Rock Thrower, Scissors Thrower, Paper Thrower, Rock Thrower, Paper Thrower, Scissors Thrower, Paper Thrower, Rock Thrower, Scissors Thrower, Scissors Thrower]\n"
     ]
    }
   ],
   "source": [
    "print(pop.population)"
   ]
  },
  {
   "cell_type": "markdown",
   "metadata": {},
   "source": [
    "## Now let's run this population for 50 generations, keeping track of the number of each strategy."
   ]
  },
  {
   "cell_type": "code",
   "execution_count": 6,
   "metadata": {},
   "outputs": [],
   "source": [
    "rock_paper_scissors = [[],[],[]]\n",
    "for i in range(50):\n",
    "    strategy_counts = pop.step(num_iterations=10, num_generations=1)\n",
    "    rock_paper_scissors[0].append(strategy_counts['Rock Thrower'])\n",
    "    rock_paper_scissors[1].append(strategy_counts['Paper Thrower'])\n",
    "    rock_paper_scissors[2].append(strategy_counts['Scissors Thrower'])\n"
   ]
  },
  {
   "cell_type": "markdown",
   "metadata": {},
   "source": [
    "## So that we can plot the number of individuals from each strategy"
   ]
  },
  {
   "cell_type": "code",
   "execution_count": 8,
   "metadata": {},
   "outputs": [
    {
     "data": {
      "image/png": "[encoded data removed]",
      "text/plain": [
       "<matplotlib.figure.Figure at 0x111414a90>"
      ]
     },
     "metadata": {},
     "output_type": "display_data"
    }
   ],
   "source": [
    "from matplotlib import pyplot\n",
    "pyplot.plot(np.transpose(rock_paper_scissors))\n",
    "pyplot.legend([\"Rock\",\"Paper\",\"Scissors\"])\n",
    "pyplot.xlabel(\"Generation\")\n",
    "pyplot.ylabel(\"Num Individuals\")\n",
    "pyplot.show()"
   ]
  },
  {
   "cell_type": "markdown",
   "metadata": {},
   "source": [
    "### Why do you think we end up with all of one strategy after a few generations? "
   ]
  },
  {
   "cell_type": "markdown",
   "metadata": {},
   "source": [
    "# For your group homework submission:\n",
    "## Submit a single Jupyter Notebook or python file containing your implementation of a RPS Strategy, and some markdown or comments describing your approach. \n",
    "\n",
    "## Each person should submit a file with the same strategy -- but include a little blurb about what you and others in your group contributed, and what you found interesting and/or struggled with during this assignment. "
   ]
  },
  {
   "cell_type": "markdown",
   "metadata": {},
   "source": [
    "### Hint: Start by adding a few different simple strategies and see how they do!"
   ]
  },
  {
   "cell_type": "code",
   "execution_count": null,
   "metadata": {},
   "outputs": [],
   "source": []
  }
 ],
 "metadata": {
  "kernelspec": {
   "display_name": "Python 3 (ipykernel)",
   "language": "python",
   "name": "python3"
  },
  "language_info": {
   "codemirror_mode": {
    "name": "ipython",
    "version": 3
   },
   "file_extension": ".py",
   "mimetype": "text/x-python",
   "name": "python",
   "nbconvert_exporter": "python",
   "pygments_lexer": "ipython3",
   "version": "3.8.10"
  }
 },
 "nbformat": 4,
 "nbformat_minor": 4
}
